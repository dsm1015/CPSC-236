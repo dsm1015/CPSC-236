{
 "cells": [
  {
   "cell_type": "markdown",
   "metadata": {},
   "source": [
    "# Chapter 12\n",
    "\n",
    "# How to work with Dictionaries"
   ]
  },
  {
   "cell_type": "markdown",
   "metadata": {},
   "source": [
    "## Dictionaries\n",
    "\n",
    "Dictionary\n",
    ": object that stores a collection of data\n",
    "\n",
    "- Each element consists of a **key** and a **value**\n",
    "- Often referred to as *mapping* of key to value\n",
    "- Key must be an *immutable* object\n",
    "- To retrieve a specific value, use the key associated with it\n",
    "\n",
    "Format for creating a dictionary:\n",
    "`dictionary = {key1:val1, key2:val2}`\n"
   ]
  },
  {
   "cell_type": "code",
   "execution_count": 1,
   "metadata": {},
   "outputs": [
    {
     "name": "stdout",
     "output_type": "stream",
     "text": [
      "{'CA': 'Canada', 'US': 'United States', 'MX': 'Mexico'}\n"
     ]
    }
   ],
   "source": [
    "# strings as keys and values\n",
    "countries =  {\n",
    "    \"CA\": \"Canada\",\n",
    "    \"US\": \"United States\",\n",
    "    \"MX\": \"Mexico\"\n",
    "    }\n",
    "\n",
    "# numbers as keys, strings as values\n",
    "numbers = {1: \"One\", 2: \"Two\", 3: \"Three\", 4: \"Four\", 5: \"Five\"}\n",
    "\n",
    "# strings as keys, values of mixed types\n",
    "movie = {\n",
    "    \"name\": \"The Holy Grail\",\n",
    "    \"year\": 1975,\n",
    "    \"price\": 9.99\n",
    "    }\n",
    "\n",
    "# an empty dictionary\n",
    "book_catalog = {}\n",
    "\n",
    "print(countries)\n"
   ]
  },
  {
   "cell_type": "markdown",
   "metadata": {},
   "source": [
    "## Retrieving a Value from  a Dictionary\n",
    "\n",
    "- Elements in dictionary are unsorted\n",
    "- General format for retrieving value from\n",
    "dictionary: `dictionary[key]`\n",
    "\n"
   ]
  },
  {
   "cell_type": "code",
   "execution_count": 3,
   "metadata": {},
   "outputs": [
    {
     "data": {
      "text/plain": [
       "'United States'"
      ]
     },
     "execution_count": 3,
     "metadata": {},
     "output_type": "execute_result"
    }
   ],
   "source": [
    "countries[\"US\"]"
   ]
  },
  {
   "cell_type": "markdown",
   "metadata": {},
   "source": [
    "\n",
    "Test whether a key is in a dictionary using the `in`\n",
    "and `not in` operators\n",
    "\n",
    "Helps prevent `KeyError` exceptions\n",
    "\n",
    "```python\n",
    "code = \"IE\"\n",
    "if code in countries:\n",
    "    country = countries[code]\n",
    "    print(country)\n",
    "else:\n",
    "    print(\"There is no country for this code: \" + code)\n",
    "```"
   ]
  },
  {
   "cell_type": "markdown",
   "metadata": {},
   "source": [
    "## Adding Elements\n",
    "\n",
    "To add a new key-value pair:\n",
    "`dictionary[key] = value`\n",
    "\n",
    "If key exists in the dictionary, the value associated with it\n",
    "will be *changed*\n",
    "\n",
    "## Deleting Elements\n",
    "\n",
    "To delete a key-value pair:\n",
    "`del dictionary[key]`\n",
    "\n",
    "## Dictionary methods\n",
    "\n",
    "### `clear`\n",
    "\n",
    "clear method\n",
    ": deletes all the elements in a dictionary, leaving it empty\n",
    "\n",
    "`dictionary.clear()`\n",
    "\n",
    "### `get`\n",
    "\n",
    "get method\n",
    ": gets a value associated with\n",
    "\n",
    "specified key from the dictionary\n",
    "`dictionary.get(key, default)`\n",
    "\n",
    "- `default` is returned if key is not found\n",
    "- Alternative to `[]` operator\n",
    "- Cannot raise KeyError exception\n"
   ]
  },
  {
   "cell_type": "code",
   "execution_count": 5,
   "metadata": {},
   "outputs": [
    {
     "name": "stdout",
     "output_type": "stream",
     "text": [
      "Mexico\n",
      "None\n",
      "Unknown\n"
     ]
    }
   ],
   "source": [
    "country = countries.get(\"MX\") # \"Mexico\"\n",
    "print(country)\n",
    "country = countries.get(\"IE\") # None\n",
    "print(country)\n",
    "country = countries.get(\"IE\", \"Unknown\") # \"Unknown\"\n",
    "print(country)"
   ]
  },
  {
   "cell_type": "markdown",
   "metadata": {},
   "source": [
    "### `items`\n",
    "\n",
    "items method\n",
    ": returns all the dictionaries keys and associated values\n",
    "\n",
    "`dictionary.items()`\n",
    "\n",
    "- Returned as a `dictionary view`\n",
    "- Use a for loop to iterate over the tuples in the\n",
    "sequence\n",
    "- Can use a variable which receives a tuple, or can use\n",
    "two variables which receive key and value\n"
   ]
  },
  {
   "cell_type": "code",
   "execution_count": 6,
   "metadata": {},
   "outputs": [
    {
     "name": "stdout",
     "output_type": "stream",
     "text": [
      "CA Canada\n",
      "US United States\n",
      "MX Mexico\n"
     ]
    }
   ],
   "source": [
    "for code, name in countries.items():\n",
    "    print(code + \" \" + name)"
   ]
  },
  {
   "cell_type": "markdown",
   "metadata": {},
   "source": [
    "### `keys`\n",
    "\n",
    "keys method\n",
    ": returns all the dictionaries keys as a sequence\n",
    "\n",
    "`dictionary.keys()`"
   ]
  },
  {
   "cell_type": "code",
   "execution_count": 7,
   "metadata": {},
   "outputs": [
    {
     "name": "stdout",
     "output_type": "stream",
     "text": [
      "CA Canada\n",
      "US United States\n",
      "MX Mexico\n"
     ]
    }
   ],
   "source": [
    "for code in countries.keys():\n",
    "    print(code + \" \" + countries[code])"
   ]
  },
  {
   "cell_type": "markdown",
   "metadata": {},
   "source": [
    "### `values`\n",
    "\n",
    "values method\n",
    ": returns all the\n",
    "dictionaries values as a sequence\n",
    "\n",
    "`dictionary.values()`"
   ]
  },
  {
   "cell_type": "code",
   "execution_count": 8,
   "metadata": {},
   "outputs": [
    {
     "name": "stdout",
     "output_type": "stream",
     "text": [
      "Canada\n",
      "United States\n",
      "Mexico\n"
     ]
    }
   ],
   "source": [
    "for name in countries.values():\n",
    "    print(name)"
   ]
  },
  {
   "cell_type": "markdown",
   "metadata": {},
   "source": [
    "### `pop`\n",
    "\n",
    "pop method\n",
    ": returns value associated with\n",
    "specified key and removes that key-value pair from the dictionary\n",
    "\n",
    "`value = dictionary.pop(key, ‘Error MSG’)`"
   ]
  },
  {
   "cell_type": "code",
   "execution_count": 9,
   "metadata": {},
   "outputs": [
    {
     "data": {
      "text/plain": [
       "'Not Found'"
      ]
     },
     "execution_count": 9,
     "metadata": {},
     "output_type": "execute_result"
    }
   ],
   "source": [
    "countries.pop(\"EN\", \"Not Found\")"
   ]
  },
  {
   "cell_type": "markdown",
   "metadata": {},
   "source": [
    "## Built in Constructors\n",
    "\n",
    "Create list:\n",
    "`list(view)`\n",
    "\n",
    "Dictionary:\n",
    "`Dict(list)`"
   ]
  },
  {
   "cell_type": "markdown",
   "metadata": {},
   "source": [
    "## In-Class 1\n",
    "\n",
    "Create an empty dictionary. Allow the user to add, update, delete (`pop`), show(`get`), or clear the dictionary. "
   ]
  },
  {
   "cell_type": "code",
   "execution_count": 13,
   "metadata": {},
   "outputs": [
    {
     "name": "stdout",
     "output_type": "stream",
     "text": [
      "Enter three courses to start.\n"
     ]
    },
    {
     "name": "stdout",
     "output_type": "stream",
     "text": [
      "python was added as 236.\n",
      "C++ was added as 146.\n",
      "intro to prog was added as 130.\n",
      "\n",
      "COMMANDS\n",
      "update - Update an entry\n",
      "delete - Delete an entry\n",
      "add - Add an entry\n",
      "show - Show all entries\n",
      "clear - Delete all entries\n",
      "exit - Exit program\n",
      "1 was not found.\n",
      "\n",
      "236    python\n",
      "146    C++\n",
      "130    intro to prog\n",
      "\n",
      "python has been deleted.\n",
      "\n",
      "146    C++\n",
      "130    intro to prog\n",
      "\n",
      "All data has been deleted.\n",
      "\n",
      "No courses on record.\n",
      "\n",
      "Bye!\n"
     ]
    }
   ],
   "source": [
    "def display_menu():\n",
    "    print(\"\\nCOMMANDS\")\n",
    "    print(\"update - Update an entry\")\n",
    "    print(\"delete - Delete an entry\")\n",
    "    print(\"add - Add an entry\")\n",
    "    print(\"show - Show all entries\")\n",
    "    print(\"clear - Delete all entries\")\n",
    "    print(\"exit - Exit program\")\n",
    "    \n",
    "def update(df):\n",
    "    to_update=input(\"Code to update:\")\n",
    "    if to_update in df:\n",
    "        new_data=input(\"New data:\")\n",
    "        df[to_update]=new_data\n",
    "        print(to_update+\" has been changed to \"+new_data+\".\\n\")\n",
    "    else:\n",
    "        print(to_update+\" was not found.\\n\")\n",
    "    return df\n",
    "\n",
    "def delete(df):\n",
    "    to_delete=input(\"Code to delete:\")\n",
    "    if to_delete in df:\n",
    "        deleted_item=df.pop(to_delete)\n",
    "        print(deleted_item+\" has been deleted.\\n\")\n",
    "    else:\n",
    "        print(\"Course code not found.\\n\")\n",
    "    return df\n",
    "    \n",
    "def add(df):\n",
    "    to_add=input(\"Code to add: \")\n",
    "    if to_add in df:\n",
    "        print(to_add+\" is already taken by \"+df[to_add]+\".\\n\")\n",
    "    else:\n",
    "        new_data=input(\"Course name: \")\n",
    "        df[to_add]=new_data\n",
    "        print(new_data+\" has been added as \"+to_add+\".\\n\")\n",
    "    return df\n",
    "\n",
    "def show(df):\n",
    "    if len(df)==0:\n",
    "        print(\"No courses on record.\\n\")\n",
    "    else:\n",
    "        for code,name in df.items():\n",
    "            print(code+\"    \"+name)\n",
    "        print()\n",
    "    return df\n",
    "        \n",
    "def clear(df):\n",
    "    df.clear()\n",
    "    print(\"All data has been deleted.\\n\")\n",
    "    return df\n",
    "        \n",
    "def main():\n",
    "    df={}\n",
    "    print(\"Enter three courses to start.\")\n",
    "    for i in range(0,3):\n",
    "        code_to_add=input(\"Course code #\"+str(i+1)+\": \")\n",
    "        data_to_add=input(\"Course name #\"+str(i+1)+\": \")\n",
    "        df[code_to_add]=data_to_add\n",
    "        print(data_to_add+\" was added as \"+code_to_add+\".\")\n",
    "    display_menu()\n",
    "    while True:\n",
    "        command=input(\"Command: \")\n",
    "        if command==\"update\":\n",
    "            update(df)\n",
    "        elif command==\"delete\":\n",
    "            delete(df)\n",
    "        elif command==\"add\":\n",
    "            add(df)\n",
    "        elif command==\"show\":\n",
    "            show(df)\n",
    "        elif command==\"clear\":\n",
    "            clear(df)\n",
    "        elif command==\"exit\":\n",
    "            print(\"Bye!\")\n",
    "            break\n",
    "        else:\n",
    "            print(\"Invalid command\")\n",
    "        \n",
    "if __name__==\"__main__\":\n",
    "    main()"
   ]
  },
  {
   "cell_type": "markdown",
   "metadata": {},
   "source": [
    "### Code that converts the keys of a dictionary to a list and sorts them"
   ]
  },
  {
   "cell_type": "code",
   "execution_count": 2,
   "metadata": {},
   "outputs": [
    {
     "name": "stdout",
     "output_type": "stream",
     "text": [
      "CA Canada\n",
      "MX Mexico\n",
      "US United States\n"
     ]
    }
   ],
   "source": [
    "countries = {\n",
    "    \"CA\": \"Canada\",\n",
    "    \"US\": \"United States\",\n",
    "    \"MX\": \"Mexico\"}\n",
    "codes = list(countries.keys()) # Returns a list of keys\n",
    "codes.sort()\n",
    "for code in codes:\n",
    "    print(code + \" \" + countries[code])"
   ]
  },
  {
   "cell_type": "markdown",
   "metadata": {},
   "source": [
    "### Code that converts a two-dimensional list to a dictionary"
   ]
  },
  {
   "cell_type": "code",
   "execution_count": 3,
   "metadata": {},
   "outputs": [
    {
     "name": "stdout",
     "output_type": "stream",
     "text": [
      "{'GB': 'United Kingdom', 'NL': 'Netherlands', 'DE': 'Germany'}\n"
     ]
    }
   ],
   "source": [
    "countries = [\n",
    "            [\"GB\", \"United Kingdom\"],\n",
    "            [\"NL\", \"Netherlands\"],\n",
    "            [\"DE\", \"Germany\"]\n",
    "            ]\n",
    "\n",
    "countries = dict(countries)\n",
    "print(countries)"
   ]
  },
  {
   "cell_type": "markdown",
   "metadata": {},
   "source": [
    "## Country Program"
   ]
  },
  {
   "cell_type": "code",
   "execution_count": 5,
   "metadata": {},
   "outputs": [],
   "source": [
    "def display_menu():\n",
    "    print(\"COMMAND MENU\")\n",
    "    print(\"view - View country name\")\n",
    "    print(\"add - Add a country\")\n",
    "    print(\"del - Delete a country\")\n",
    "    print(\"exit - Exit program\")\n",
    "    print()\n",
    "def display_codes(countries):\n",
    "    codes = list(countries.keys())\n",
    "    codes.sort()\n",
    "    line = \"Country codes: \"\n",
    "    for code in codes:\n",
    "        line += code + \" \"\n",
    "    print(line)\n",
    "\n",
    "def view(countries):\n",
    "    display_codes(countries)\n",
    "    code = input(\"Enter country code: \")\n",
    "    code = code.upper()\n",
    "    if code in countries:\n",
    "        name = countries[code]\n",
    "        print(\"Country name: \" + name + \".\\n\")\n",
    "    else:\n",
    "        print(\"There is no country with that code.\\n\")\n",
    "\n",
    "def add(countries):\n",
    "    code = input(\"Enter country code: \")\n",
    "    code = code.upper()\n",
    "    if code in countries:\n",
    "        name = countries[code]\n",
    "        print(name + \" is already using this code.\\n\")\n",
    "    else:\n",
    "        name = input(\"Enter country name: \")\n",
    "        name = name.title()\n",
    "        countries[code] = name\n",
    "        print(name + \" was added.\\n\")\n",
    "\n",
    "\n",
    "def delete(countries):\n",
    "    code = input(\"Enter country code: \")\n",
    "    code = code.upper()\n",
    "    if code in countries:\n",
    "        name = countries.pop(code)\n",
    "        print(name + \" was deleted.\\n\")\n",
    "    else:\n",
    "        print(\"There is no country with that code.\\n\")\n",
    "\n",
    "\n",
    "def main():\n",
    "    countries = {\n",
    "        \"CA\": \"Canada\",\n",
    "        \"US\": \"United States\",\n",
    "        \"MX\": \"Mexico\"\n",
    "        }\n",
    "    display_menu()\n",
    "    while True:\n",
    "        command = input(\"Command: \")\n",
    "        command = command.lower()\n",
    "        if command == \"view\":\n",
    "            view(countries)\n",
    "        elif command == \"add\":\n",
    "            add(countries)\n",
    "        elif command == \"del\":\n",
    "            delete(countries)\n",
    "        elif command == \"exit\":\n",
    "            print(\"Bye!\")\n",
    "            break\n",
    "        else:\n",
    "            print(\"Not a valid command. Please try again.\\n\")\n",
    "\n",
    "if __name__ == \"__main__\":\n",
    "    main()\n"
   ]
  },
  {
   "cell_type": "markdown",
   "metadata": {},
   "source": [
    "## In-Class 2\n",
    "\n",
    "Create a simple word counter that counts the words of a string and and stores them in a dictionary.\n",
    "\n"
   ]
  },
  {
   "cell_type": "code",
   "execution_count": 12,
   "metadata": {},
   "outputs": [
    {
     "name": "stdout",
     "output_type": "stream",
     "text": [
      "Word Counter\n",
      "\n",
      "Entered: the dog ran around the other dogs in the dog park\n",
      "\n",
      "around = 1\n",
      "dog = 2\n",
      "dogs = 1\n",
      "in = 1\n",
      "other = 1\n",
      "park = 1\n",
      "ran = 1\n",
      "the = 3\n"
     ]
    }
   ],
   "source": [
    "def main():\n",
    "    print(\"Word Counter\")\n",
    "    print()\n",
    "    text = input(\"Enter text: \") # Get user input\n",
    "    print(\"Entered: \" + text)\n",
    "    words = text.split() # Split the text into a list of words\n",
    "    word_count = {}\n",
    "    for word in words:\n",
    "        # If the word is already in the dictionary, increment its count\n",
    "        if word in word_count:\n",
    "            word_count[word] += 1\n",
    "        # Otherwise, add the word to the dictionary with a count of 1\n",
    "        else:\n",
    "            word_count[word] = 1\n",
    "    print()\n",
    "    \n",
    "    # Sort the words in alphabetical order\n",
    "    words = list(word_count.keys())\n",
    "    words.sort()\n",
    "    for word in words:\n",
    "        print(word + \" = \" + str(word_count[word]))\n",
    "\n",
    "if __name__ == \"__main__\":\n",
    "    main()"
   ]
  }
 ],
 "metadata": {
  "kernelspec": {
   "display_name": "base",
   "language": "python",
   "name": "python3"
  },
  "language_info": {
   "codemirror_mode": {
    "name": "ipython",
    "version": 3
   },
   "file_extension": ".py",
   "mimetype": "text/x-python",
   "name": "python",
   "nbconvert_exporter": "python",
   "pygments_lexer": "ipython3",
   "version": "3.9.13"
  }
 },
 "nbformat": 4,
 "nbformat_minor": 2
}
