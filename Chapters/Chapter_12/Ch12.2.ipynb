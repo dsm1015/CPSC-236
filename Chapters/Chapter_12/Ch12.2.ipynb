{
 "cells": [
  {
   "cell_type": "markdown",
   "metadata": {},
   "source": [
    "# Chapter 12\n",
    "\n",
    "# How to work with dictionaries (cont.)"
   ]
  },
  {
   "cell_type": "markdown",
   "metadata": {},
   "source": [
    "## A dictionary that contains other dictionaries as values"
   ]
  },
  {
   "cell_type": "code",
   "execution_count": 3,
   "metadata": {},
   "outputs": [
    {
     "name": "stdout",
     "output_type": "stream",
     "text": [
      "Sorry, there is no email address for this contact.\n"
     ]
    }
   ],
   "source": [
    "contacts = {\n",
    "    \"Joel\":\n",
    "        {\"address\": \"1500 Anystreet\", \"city\": \"San Francisco\",\n",
    "        \"state\": \"California\", \"postalCode\": \"94110\",\n",
    "        \"phone\": \"555-555-1111\"},\n",
    "    \"Anne\":\n",
    "        {\"address\": \"1000 Somestreet\", \"city\": \"Fresno\",\n",
    "        \"state\": \"California\", \"postalCode\": \"93704\",\n",
    "        \"phone\": \"125-555-2222\"},\n",
    "    \"Ben\":\n",
    "        {\"address\": \"1400 Another Street\", \"city\": \"Fresno\",\n",
    "        \"state\": \"California\", \"postalCode\": \"93704\",\n",
    "        \"phone\": \"125-555-4444\"}\n",
    "}\n",
    "\n",
    "phone = contacts[\"Anne\"][\"phone\"] # \"555-555-1111\"\n",
    "# email = contacts[\"Anne\"][\"email\"] # KeyError\n",
    "\n",
    "# Code that checks whether a key exists within another key\n",
    "key = \"email\"\n",
    "if key in contacts[\"Anne\"]:\n",
    "    email = contacts[\"Anne\"][key]\n",
    "    print(email)\n",
    "else:\n",
    "    print(\"Sorry, there is no email address for this contact.\")"
   ]
  },
  {
   "cell_type": "code",
   "execution_count": 5,
   "metadata": {},
   "outputs": [
    {
     "name": "stdout",
     "output_type": "stream",
     "text": [
      "125-555-2222\n",
      "None\n",
      "None\n"
     ]
    }
   ],
   "source": [
    "# Code that uses the get() method with embedded dictionaries\n",
    "phone = contacts.get(\"Anne\").get(\"phone\") # \"555-555-1111\"\n",
    "print(phone)\n",
    "phone = contacts.get(\"Anne\").get(\"email\") # None\n",
    "print(phone)\n",
    "#phone = contacts.get(\"Mike\").get(\"phone\") # AttributeError\n",
    "#print(phone)\n",
    "phone = contacts.get(\"Mike\", {}).get(\"phone\") # None\n",
    "print(phone)"
   ]
  },
  {
   "cell_type": "markdown",
   "metadata": {},
   "source": [
    "## A dictionary that contains lists as values"
   ]
  },
  {
   "cell_type": "code",
   "execution_count": 7,
   "metadata": {},
   "outputs": [
    {
     "name": "stdout",
     "output_type": "stream",
     "text": [
      "[85, 95, 70]\n",
      "85\n"
     ]
    }
   ],
   "source": [
    "students = {\n",
    "        \"Joel\":[85, 95, 70],\n",
    "        \"Anne\":[95, 100, 100],\n",
    "        \"Mike\":[77, 70, 80, 85]\n",
    "        }\n",
    "\n",
    "#Code that gets a value from an embedded list\n",
    "scores = students[\"Joel\"] # [85, 95, 70]\n",
    "joel_score1 = students[\"Joel\"][0] # 85\n",
    "\n",
    "print(scores)\n",
    "print(joel_score1)\n"
   ]
  },
  {
   "cell_type": "markdown",
   "metadata": {},
   "source": [
    "## Book Catalog Program"
   ]
  },
  {
   "cell_type": "code",
   "execution_count": 8,
   "metadata": {},
   "outputs": [
    {
     "name": "stdout",
     "output_type": "stream",
     "text": [
      "The Book Catalog program\n",
      "\n",
      "COMMAND MENU\n",
      "show - Show book info\n",
      "add - Add book\n",
      "edit - Edit book\n",
      "del - Delete book\n",
      "exit - Exit program\n",
      "\n",
      "Title: Moby Dick\n",
      "Author: Herman Melville\n",
      "Pub year: 1851\n",
      "\n",
      "\n",
      "Title: The Hobbit\n",
      "Author: Tolkien\n",
      "Pub year: 2024\n",
      "\n",
      "The Hobbit removed from catalog.\n",
      "\n",
      "Bye!\n"
     ]
    }
   ],
   "source": [
    "def show_book(book_catalog):\n",
    "    title = input(\"Enter the title for the book: \")\n",
    "    if title in book_catalog:\n",
    "        book = book_catalog[title]\n",
    "        print(\"Title: \" + title)\n",
    "        print(\"Author: \" + book[\"author\"])\n",
    "        print(\"Pub year: \" + book[\"pubyear\"])\n",
    "    else:\n",
    "        print(\"Sorry, \" + title +\n",
    "        \" doesn't exist in the catalog.\")\n",
    "\n",
    "def add_edit_book(book_catalog, mode):\n",
    "    title = input(\"Enter title of the book: \")\n",
    "    if mode == \"add\" and title in book_catalog:\n",
    "        print(title + \" already exists in the catalog.\")\n",
    "        response = input (\"Would you like to edit it? (y/n): \").lower()\n",
    "        if(response != \"y\"):\n",
    "            return\n",
    "    elif mode == \"edit\" and title not in book_catalog:\n",
    "        print(title + \" doesn't exist in the catalog.\")\n",
    "        response = input(\"Would you like to add it? (y/n): \").lower()\n",
    "        if (response != \"y\"):\n",
    "            return\n",
    "    \n",
    "    # Get book data and create a dictionary for the data\n",
    "    author = input(\"Enter author name: \")\n",
    "    pubyear = input(\"Enter publication year: \")\n",
    "    book = {\"author\": author, \"pubyear\": pubyear}\n",
    "    # Add the book data to the catalog using title as key\n",
    "    book_catalog[title] = book\n",
    "\n",
    "def delete_book(book_catalog):\n",
    "    title = input(\"Title: \")\n",
    "    if title in book_catalog:\n",
    "        del book_catalog[title]\n",
    "        print(title + \" removed from catalog.\")\n",
    "    else:\n",
    "        print(title + \" doesn't exist in the catalog.\")\n",
    "\n",
    "def display_menu():\n",
    "    print(\"The Book Catalog program\")\n",
    "    print()\n",
    "    print(\"COMMAND MENU\")\n",
    "    print(\"show - Show book info\")\n",
    "    print(\"add - Add book\")\n",
    "    print(\"edit - Edit book\")\n",
    "    print(\"del - Delete book\")\n",
    "    print(\"exit - Exit program\")\n",
    "\n",
    "def main():\n",
    "    book_catalog = {\n",
    "        \"Moby Dick\":\n",
    "            {\"author\" : \"Herman Melville\", \"pubyear\" : \"1851\"},\n",
    "        \"The Hobbit\":\n",
    "            {\"author\" : \"J. R. R. Tolkien\", \"pubyear\" : \"1937\"},\n",
    "        \"Slaughterhouse Five\":\n",
    "            {\"author\" : \"Kurt Vonnegut\", \"pubyear\" : \"1969\"}\n",
    "        }\n",
    "    display_menu()\n",
    "\n",
    "    while True:\n",
    "        print()\n",
    "        command = input(\"Command: \").lower()\n",
    "        if command == \"show\":\n",
    "            show_book(book_catalog)\n",
    "        elif command == \"add\":\n",
    "            add_edit_book(book_catalog, mode=\"add\")\n",
    "        elif command == \"edit\":\n",
    "            add_edit_book(book_catalog, mode=\"edit\")\n",
    "        elif command == \"del\":\n",
    "            delete_book(book_catalog)\n",
    "        elif command == \"exit\":\n",
    "            print(\"Bye!\")\n",
    "            break\n",
    "        else:\n",
    "            print(\"Unknown command. Please try again.\")\n",
    "\n",
    "if __name__ == \"__main__\":\n",
    "    main()\n"
   ]
  },
  {
   "cell_type": "markdown",
   "metadata": {},
   "source": [
    "## JSON files"
   ]
  },
  {
   "cell_type": "code",
   "execution_count": 18,
   "metadata": {},
   "outputs": [
    {
     "name": "stdout",
     "output_type": "stream",
     "text": [
      "{\"Joel\": {\"address\": \"1500 Anystreet\", \"city\": \"San Francisco\", \"state\": \"California\", \"postalCode\": \"94110\", \"phone\": \"555-555-1111\"}, \"Anne\": {\"address\": \"1000 Somestreet\", \"city\": \"Fresno\", \"state\": \"California\", \"postalCode\": \"93704\", \"phone\": \"125-555-2222\"}, \"Ben\": {\"address\": \"1400 Another Street\", \"city\": \"Fresno\", \"state\": \"California\", \"postalCode\": \"93704\", \"phone\": \"125-555-4444\"}}\n",
      "<class 'str'>\n"
     ]
    }
   ],
   "source": [
    "import json\n",
    "\n",
    "contacts = {\n",
    "    \"Joel\":\n",
    "        {\"address\": \"1500 Anystreet\", \"city\": \"San Francisco\",\n",
    "        \"state\": \"California\", \"postalCode\": \"94110\",\n",
    "        \"phone\": \"555-555-1111\"},\n",
    "    \"Anne\":\n",
    "        {\"address\": \"1000 Somestreet\", \"city\": \"Fresno\",\n",
    "        \"state\": \"California\", \"postalCode\": \"93704\",\n",
    "        \"phone\": \"125-555-2222\"},\n",
    "    \"Ben\":\n",
    "        {\"address\": \"1400 Another Street\", \"city\": \"Fresno\",\n",
    "        \"state\": \"California\", \"postalCode\": \"93704\",\n",
    "        \"phone\": \"125-555-4444\"}\n",
    "}\n",
    "\n",
    "\n",
    "s=json.dumps(contacts) #dump as a string into a json format\n",
    "print(s)\n",
    "print(type(s))"
   ]
  },
  {
   "cell_type": "code",
   "execution_count": 20,
   "metadata": {},
   "outputs": [
    {
     "name": "stdout",
     "output_type": "stream",
     "text": [
      "{'address': '1500 Anystreet', 'city': 'San Francisco', 'state': 'California', 'postalCode': '94110', 'phone': '555-555-1111'}\n",
      "{'address': '1000 Somestreet', 'city': 'Fresno', 'state': 'California', 'postalCode': '93704', 'phone': '125-555-2222'}\n",
      "{'address': '1400 Another Street', 'city': 'Fresno', 'state': 'California', 'postalCode': '93704', 'phone': '125-555-4444'}\n"
     ]
    }
   ],
   "source": [
    "with open('example_files/contacts.json','w') as f:\n",
    "    f.write(s)\n",
    "\n",
    "f=open('example_files/contacts.json','r')\n",
    "s=f.read()\n",
    "f.close()\n",
    "\n",
    "contacts_=json.loads(s)\n",
    "contacts_\n",
    "contacts_[\"Joel\"]\n",
    "for person in contacts_:\n",
    "    print(contacts_[person])\n",
    "city = contacts_[\"Joel\"][\"city\"] # \"San Francisco\""
   ]
  }
 ],
 "metadata": {
  "kernelspec": {
   "display_name": "base",
   "language": "python",
   "name": "python3"
  },
  "language_info": {
   "codemirror_mode": {
    "name": "ipython",
    "version": 3
   },
   "file_extension": ".py",
   "mimetype": "text/x-python",
   "name": "python",
   "nbconvert_exporter": "python",
   "pygments_lexer": "ipython3",
   "version": "3.9.13"
  }
 },
 "nbformat": 4,
 "nbformat_minor": 2
}
