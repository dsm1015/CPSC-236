{
 "cells": [
  {
   "cell_type": "markdown",
   "metadata": {},
   "source": [
    "# Chapter 10\n",
    "\n",
    "# Strings\n",
    "\n",
    "In Python, there are many tools for examining\n",
    "and manipulating strings\n",
    "\n",
    "Strings are sequences, so many of the tools\n",
    "that work with sequences work with strings\n",
    "\n",
    "## Accessing the Individual Characters in a String\n",
    "\n",
    "Use a for loop\n",
    "- Format: `for character in string:`\n",
    "- Useful when need to iterate over the whole string, such\n",
    "as to count the occurrences of a specific character\n",
    "\n",
    "Use indexing\n",
    "- Each character has an index specifying its position in\n",
    "the string, starting at 0\n",
    "- Format: `character = my_string[i]`\n",
    "\n"
   ]
  },
  {
   "cell_type": "code",
   "execution_count": 2,
   "metadata": {},
   "outputs": [
    {
     "name": "stdout",
     "output_type": "stream",
     "text": [
      "H\n",
      "i\n",
      "!\n",
      "48 49 50 51 32 65 66 67 68 32 97 98 99 100 "
     ]
    }
   ],
   "source": [
    "message = \"Hi!\"\n",
    "for char in message:\n",
    "    print(char)\n",
    "\n",
    "\n",
    "# print the ASCII value of each character in the message\n",
    "message = \"0123 ABCD abcd\"\n",
    "for char in message:\n",
    "    print(ord(char), end=\" \")"
   ]
  },
  {
   "cell_type": "markdown",
   "metadata": {},
   "source": [
    "`IndexError` exception will occur if:\n",
    "- You try to use an index that is out of range for\n",
    "the string\n",
    "\n",
    "`len(string)` function can be used to\n",
    "obtain the length of a string\n",
    "- Useful to prevent loops from iterating beyond the end of a string\n",
    "\n",
    "\n",
    "## String Concatenation\n",
    "\n",
    "Concatenation\n",
    ": appending one string to the end of another string\n",
    "\n",
    "- Use the `+` operator to produce a string that is\n",
    "a combination of its operands\n",
    "- The augmented assignment operator `+=` can\n",
    "also be used to concatenate strings\n",
    "\n",
    "```python\n",
    "a = \"roses \"\n",
    "b = \" are \"\n",
    "c = \"red\"\n",
    "\n",
    "statement = a + b + c\n",
    "```\n"
   ]
  },
  {
   "cell_type": "code",
   "execution_count": 3,
   "metadata": {},
   "outputs": [
    {
     "name": "stdout",
     "output_type": "stream",
     "text": [
      "Ab\n"
     ]
    }
   ],
   "source": [
    "i = 'A'\n",
    "i+='b'\n",
    "print(i)"
   ]
  },
  {
   "cell_type": "markdown",
   "metadata": {},
   "source": [
    "## Strings Are Immutable\n",
    "\n",
    "- Once they are created, they cannot be changed\n",
    "- Concatenation doesn’t actually change the existing\n",
    "string, but rather creates a new string and assigns\n",
    "the new string to the previously used variable\n",
    "- **Cannot** use an expression of the form: `string[index] = new_character`"
   ]
  },
  {
   "cell_type": "markdown",
   "metadata": {},
   "source": [
    "## String Slicing\n",
    "\n",
    "Slice\n",
    ": span of items taken from a sequence, known as substring\n",
    "\n",
    "Slicing format: `string[start : end]`\n",
    "- Expression will return a string containing a copy of the\n",
    "characters from `start` up to, but not including, `end`\n",
    "- If `start` not specified, 0 is used for start index\n",
    "- If `end` not specified, `len(string)` is used for end\n",
    "index\n",
    "\n",
    "- Slicing expressions can include a step value and\n",
    "negative indexes relative to end of string\n"
   ]
  },
  {
   "cell_type": "code",
   "execution_count": 4,
   "metadata": {},
   "outputs": [
    {
     "data": {
      "text/plain": [
       "'Hello out there'"
      ]
     },
     "execution_count": 4,
     "metadata": {},
     "output_type": "execute_result"
    }
   ],
   "source": [
    "message = \"Hello out there!\"\n",
    "message[:5] # \"Hello\"\n",
    "message[6:9] # \"out\"\n",
    "message[10:] # \"there!\"\n",
    "message[:-1] # \"Hello out there\""
   ]
  },
  {
   "cell_type": "markdown",
   "metadata": {},
   "source": [
    "## Testing, Searching, and Manipulating Strings\n",
    "\n",
    "You can use the `in` operator to\n",
    "determine whether one string is\n",
    "contained in another string\n",
    "- General format: `string1 in string2`\n",
    "- `string1 not in string2`\n",
    "\n"
   ]
  },
  {
   "cell_type": "code",
   "execution_count": 9,
   "metadata": {},
   "outputs": [
    {
     "name": "stdout",
     "output_type": "stream",
     "text": [
      "Search Term:  won\n",
      "Term found!\n"
     ]
    }
   ],
   "source": [
    "spam = \"Congratulations. You've won a million dollars.\"\n",
    "\"million\" in spam # True\n",
    "\"Million\" in spam # False - search is case-sensitive\n",
    "\"on\" in spam # True – doesn't need to be whole word\n",
    "\" million \" in spam # True – uses spaces to find a whole word\n",
    "\" dollars \" in spam # False - ends with a period, not a space\n",
    "\n",
    "search_term = input(\"Enter search term: \")\n",
    "if search_term in spam:\n",
    "    print(\"Search Term: \",search_term)\n",
    "    print(\"Term found!\")"
   ]
  },
  {
   "cell_type": "markdown",
   "metadata": {},
   "source": [
    "## String methods\n",
    "\n",
    "Strings in Python have many types of\n",
    "methods, divided into different types of\n",
    "operations\n",
    "- General format: `mystring.method(arguments)`\n",
    "\n",
    "- Some methods test a string for specific\n",
    "characteristics\n",
    "- Generally Boolean methods, that return `True`\n",
    "if a condition exists, and `False` otherwise\n"
   ]
  },
  {
   "cell_type": "code",
   "execution_count": 10,
   "metadata": {},
   "outputs": [
    {
     "name": "stdout",
     "output_type": "stream",
     "text": [
      "False\n",
      "False\n",
      "True\n",
      "False\n",
      "False\n",
      "False\n",
      "False\n",
      "False\n",
      "False\n",
      "True\n",
      "False\n"
     ]
    }
   ],
   "source": [
    "message = \"Hello out there!\"\n",
    "print(message.isalnum()) # False\n",
    "print(message.isalpha()) # False\n",
    "print(message.isascii()) # True\n",
    "print(message.isdecimal()) # False\n",
    "print(message.isdigit()) # False\n",
    "print(message.isidentifier()) # False\n",
    "print(message.islower()) # False\n",
    "print(message.isupper()) # False\n",
    "print(message.isnumeric()) # False\n",
    "print(message.isprintable()) # True\n",
    "print(message.isspace()) # False\n"
   ]
  },
  {
   "cell_type": "markdown",
   "metadata": {},
   "source": [
    "Some methods return a copy of the\n",
    "string, to which modifications have\n",
    "been made\n",
    "- Simulate strings as mutable objects\n",
    "\n",
    "String comparisons are case-sensitive\n",
    "- Uppercase characters are distinguished from\n",
    "lowercase characters\n",
    "- `lower` and `upper` methods can be used for\n",
    "making case-insensitive string comparisons\n"
   ]
  },
  {
   "cell_type": "code",
   "execution_count": 12,
   "metadata": {},
   "outputs": [
    {
     "name": "stdout",
     "output_type": "stream",
     "text": [
      "Hello out there!\n",
      "HELLO OUT THERE!\n",
      "hello out there!\n",
      "Hello Out There!\n",
      "Hello out there!\n",
      "Hello out there!\n",
      "Hello out there\n",
      "Hello out there!\n"
     ]
    }
   ],
   "source": [
    "# string methods\n",
    "message = \"Hello out there!\"\n",
    "print(message.capitalize()) # \"Hello out there!\"\n",
    "print(message.upper()) # \"HELLO OUT THERE!\"\n",
    "print(message.lower()) # \"hello out there!\"\n",
    "print(message.title()) # \"Hello Out There!\"\n",
    "\n",
    "print(message.strip()) # \"Hello out there!\"\n",
    "print(message.lstrip()) # \"Hello out there!\"\n",
    "print(message.rstrip('!')) # \"Hello out there\"\n"
   ]
  },
  {
   "cell_type": "markdown",
   "metadata": {},
   "source": [
    "Programs commonly need to search for\n",
    "substrings\n",
    "\n",
    "Several methods to accomplish this:\n",
    "- `endswith(substring)`: checks if the string\n",
    "ends with substring.\n",
    "- `startswith(substring)`: checks if the\n",
    "string starts with substring.\n",
    "- `find(substring)`: searches for\n",
    "substring within the string. Returns lowest index of the substring, or if the substring is not contained in the string, returns -1\n",
    "- `replace(substring, new_string)`: Returns a copy of the string where every\n",
    "occurrence of substring is replaced with new_string\n",
    "\n"
   ]
  },
  {
   "cell_type": "code",
   "execution_count": 13,
   "metadata": {},
   "outputs": [
    {
     "name": "stdout",
     "output_type": "stream",
     "text": [
      "True\n",
      "True\n",
      "6\n",
      "-1\n",
      "Hi out there!\n"
     ]
    }
   ],
   "source": [
    "# substring methods\n",
    "message = \"Hello out there!\"\n",
    "print(message.startswith(\"Hello\")) # True\n",
    "print(message.endswith(\"there!\")) # True\n",
    "print(message.find(\"out\")) # 6\n",
    "print(message.find(\"in\")) # -1\n",
    "print(message.replace(\"Hello\", \"Hi\")) # \"Hi out there!\""
   ]
  },
  {
   "cell_type": "markdown",
   "metadata": {},
   "source": [
    "## The Repetition Operator\n",
    "\n",
    "Repetition operator: \n",
    "makes multiple\n",
    "copies of a string and joins them\n",
    "together\n",
    "\n",
    "- The `*` symbol is a repetition operator when\n",
    "applied to a string and an integer\n",
    "- General format: `string_to_copy * n`\n",
    "- Variable references a new string which\n",
    "contains multiple copies of the original string"
   ]
  },
  {
   "cell_type": "code",
   "execution_count": 14,
   "metadata": {},
   "outputs": [
    {
     "name": "stdout",
     "output_type": "stream",
     "text": [
      "====================\n",
      "A horse! A horse! \n"
     ]
    }
   ],
   "source": [
    "print(\"=\" * 20) # ====================\n",
    "print(\"A horse! \" * 2) # \"A horse! A horse!\""
   ]
  }
 ],
 "metadata": {
  "kernelspec": {
   "display_name": "base",
   "language": "python",
   "name": "python3"
  },
  "language_info": {
   "codemirror_mode": {
    "name": "ipython",
    "version": 3
   },
   "file_extension": ".py",
   "mimetype": "text/x-python",
   "name": "python",
   "nbconvert_exporter": "python",
   "pygments_lexer": "ipython3",
   "version": "3.9.13"
  }
 },
 "nbformat": 4,
 "nbformat_minor": 2
}
