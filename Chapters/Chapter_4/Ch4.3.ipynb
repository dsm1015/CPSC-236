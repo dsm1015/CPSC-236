{
 "cells": [
  {
   "cell_type": "markdown",
   "metadata": {},
   "source": [
    "# Chapter 4\n",
    "# Functions and Modules\n",
    "\n",
    "## Functions (cont.)\n",
    "\n",
    "## Global Variables\n",
    "\n",
    "Global variable\n",
    ": created by assignment statement written outside all the functions\n",
    "\n",
    "Reasons to avoid using global variables:\n",
    "- Global variables making debugging difficult\n",
    "- Functions that use global variables are usually dependent on those variables\n",
    "- Global variables make a program hard to understand\n",
    "\n",
    "A function that changes a global variable (not recommended):\n",
    "```python\n",
    "tax = 0.0 # tax is global variable\n",
    "def calc_tax(amount, tax_rate):\n",
    "global tax # access global variable\n",
    "tax = amount * tax_rate # change global variable\n",
    "def main():\n",
    "calc_tax(85.0, .05)\n",
    "print(\"Tax:\", tax) # Tax 4.25 (global)\n",
    "```\n",
    "\n",
    "A function that uses a global constant (okay):\n",
    "```python\n",
    "TAX_RATE = 0.05 # TAX_RATE is global\n",
    "def calc_tax(amount):\n",
    "    tax = amount * TAX_RATE # use constant here\n",
    "    return tax\n",
    "```\n",
    "Can use `global` keyword to access global variables."
   ]
  },
  {
   "cell_type": "code",
   "execution_count": 4,
   "metadata": {},
   "outputs": [
    {
     "name": "stdout",
     "output_type": "stream",
     "text": [
      "fun1: x = 100\n",
      "fun2: x = 5\n",
      "fun1: x = 100\n",
      "fun3: x = 200\n",
      "fun1: x = 200\n"
     ]
    }
   ],
   "source": [
    "# This x is a global variable\n",
    "x=100\n",
    "\n",
    "def fun1():\n",
    "    print(\"fun1: x =\",x)\n",
    "\n",
    "def fun2():\n",
    "    # This x is a local variable to fun2\n",
    "    x=5\n",
    "    print(\"fun2: x =\",x)\n",
    "\n",
    "def fun3():\n",
    "    global x\n",
    "    x=200\n",
    "    print(\"fun3: x =\",x)\n",
    "\n",
    "fun1()\n",
    "fun2()\n",
    "fun1() # global x is still 100\n",
    "fun3()\n",
    "fun1() # global x is now 200\n"
   ]
  },
  {
   "cell_type": "markdown",
   "metadata": {},
   "source": [
    "## Multiple function outputs\n",
    "\n",
    "Occasionally a function should produce\n",
    "multiple output values. However, function\n",
    "return statements are limited to returning only\n",
    "one value.\n",
    "\n",
    "A workaround is to package the multiple\n",
    "outputs into a single container, commonly a\n",
    "tuple, and to then return that container. \n",
    "\n",
    "The following program demonstrates:\n"
   ]
  },
  {
   "cell_type": "code",
   "execution_count": 6,
   "metadata": {},
   "outputs": [
    {
     "name": "stdout",
     "output_type": "stream",
     "text": [
      "Mean: 73.8\n",
      "Std Dev: 15.438911878756223\n"
     ]
    }
   ],
   "source": [
    "# multple function output example\n",
    "\n",
    "student_scores = [72, 81, 98, 56, 87, 64, 78, 90, 45, 67]\n",
    "\n",
    "def get_grade_stats(scores):\n",
    "    # calculate std dev and mean\n",
    "    total = sum(scores)\n",
    "    mean = total / len(scores)\n",
    "    std_dev = (sum([(x - mean) ** 2 for x in scores]) / len(scores)) ** 0.5\n",
    "    return std_dev, mean\n",
    "\n",
    "\n",
    "std_dev, mean = get_grade_stats(student_scores)\n",
    "\n",
    "print(\"Mean:\", mean)\n",
    "print(\"Std Dev:\", std_dev)"
   ]
  },
  {
   "cell_type": "markdown",
   "metadata": {},
   "source": [
    "## Help\n",
    "\n",
    "Using docstrings to document functions\n",
    "\n",
    "```python\n",
    "def function_name(parameter_list):\n",
    "    \"\"\"This is a docstring\"\"\"\n",
    "    # Function body statements\n",
    "help(function_name)\n",
    "```\n"
   ]
  },
  {
   "cell_type": "code",
   "execution_count": 7,
   "metadata": {},
   "outputs": [
    {
     "name": "stdout",
     "output_type": "stream",
     "text": [
      "Help on function fun1 in module __main__:\n",
      "\n",
      "fun1()\n",
      "    fun1 is a function that prints the value of global x\n",
      "\n"
     ]
    }
   ],
   "source": [
    "x=100\n",
    "\n",
    "def fun1():\n",
    "    \"\"\" fun1 is a function that prints the value of global x \"\"\"\n",
    "    print(\"fun1: x =\",x)\n",
    "\n",
    "def fun2():\n",
    "    \"\"\" fun2 is a function that prints the value of local x \"\"\"\n",
    "    x=5\n",
    "    print(\"fun2: x =\",x)\n",
    "\n",
    "# read the docstring of fun1\n",
    "help(fun1)"
   ]
  },
  {
   "cell_type": "markdown",
   "metadata": {},
   "source": [
    "## Function stubs\n",
    "\n",
    "function stubs\n",
    ": function definitions whose statements haven't been written yet\n",
    "\n",
    "```python\n",
    "# This function will execute but will not do anything\n",
    "def steps_to_calories(num_steps):\n",
    "    pass\n",
    "\n",
    "steps_to_calories(30)\n",
    "```"
   ]
  },
  {
   "cell_type": "markdown",
   "metadata": {},
   "source": [
    "## Standard Library Functions and the `import` Statement\n",
    "\n",
    "Standard library\n",
    ": library of pre-written functions that comes with Python\n",
    "\n",
    "Library functions perform tasks that programmers commonly need:\n",
    "- ex.) `print`, `input`, `range`\n",
    "\n",
    "Modules\n",
    ": files that stores functions of the standard library\n",
    "\n",
    "To call a function stored in a module, need to write an `import` statement:\n",
    "```python\n",
    "import module_name\n",
    "```\n",
    "\n",
    "For example here is the `math` module import:\n",
    "```python\n",
    "import math\n",
    "```\n",
    "\n",
    "The `math` module includes functions like `abs(x)`, `log(x)`, and `sqrt(x)`\n",
    "\n",
    "You can also use variables like `pi` and `e`:\n",
    "```python\n",
    "import math\n",
    "\n",
    "radius=4\n",
    "circle_area = math.pi * radius**2\n",
    "```"
   ]
  },
  {
   "cell_type": "markdown",
   "metadata": {},
   "source": [
    "## Generating Random Numbers\n",
    "\n",
    "Random number are useful in a lot of programming tasks\n",
    "\n",
    "import the `random` module.\n",
    "\n",
    "`random` functions include:\n",
    "- `randint`\n",
    "- `randrange`\n",
    "- `random`\n",
    "- `uniform`"
   ]
  },
  {
   "cell_type": "code",
   "execution_count": 10,
   "metadata": {},
   "outputs": [
    {
     "name": "stdout",
     "output_type": "stream",
     "text": [
      "6\n",
      "4\n",
      "0.3844481455643881\n",
      "3.0420950120881836\n"
     ]
    }
   ],
   "source": [
    "import random\n",
    "\n",
    "print(random.randint(1, 10)) # prints a random number between 1 and 10\n",
    "print(random.randrange(1, 10)) # prints a random number between 1 and 9\n",
    "print(random.random()) # prints a random float between 0 and 1\n",
    "print(random.uniform(1, 10)) # prints a random float between 1 and 10"
   ]
  },
  {
   "cell_type": "markdown",
   "metadata": {},
   "source": [
    "## Random Number Seeds\n",
    "\n",
    "You can replicate the random values that are generated by the random module by specifying a seed value.\n",
    "\n",
    "`random.seed()`\n",
    "\n",
    "The first 2 code cells below will generate the same random numbers because they have the same seed. The last cell has a different seed, so a different random number will be generated."
   ]
  },
  {
   "cell_type": "code",
   "execution_count": 13,
   "metadata": {},
   "outputs": [
    {
     "name": "stdout",
     "output_type": "stream",
     "text": [
      "0.5481578284163297\n"
     ]
    }
   ],
   "source": [
    "random.seed(48)\n",
    "\n",
    "print(random.random()) "
   ]
  },
  {
   "cell_type": "code",
   "execution_count": 14,
   "metadata": {},
   "outputs": [
    {
     "name": "stdout",
     "output_type": "stream",
     "text": [
      "0.5481578284163297\n"
     ]
    }
   ],
   "source": [
    "random.seed(48)\n",
    "\n",
    "print(random.random()) "
   ]
  },
  {
   "cell_type": "code",
   "execution_count": 16,
   "metadata": {},
   "outputs": [
    {
     "name": "stdout",
     "output_type": "stream",
     "text": [
      "0.6771258268002703\n"
     ]
    }
   ],
   "source": [
    "random.seed(19)\n",
    "\n",
    "print(random.random()) "
   ]
  },
  {
   "cell_type": "markdown",
   "metadata": {},
   "source": [
    "## Temperature Module Example\n",
    "\n",
    "I have included the `temperature.py` module within the notes directory. I can then import the `temperature` module with: `import temperature as temp`.\n",
    "\n",
    "I can now call functions from the `temperature` module using:\n",
    "```python\n",
    "c = temp.to_celsius(f)\n",
    "f = temp.to_fahrenheit(c)\n",
    "```\n",
    "\n",
    "If I wanted to, I could also import specific functions from the module using:\n",
    "```python\n",
    "from temperature import to_celcius\n",
    "\n",
    "c = to_celcius(f)\n",
    "f = to_farenheit(c) # Error! Function not imported\n",
    "```"
   ]
  },
  {
   "cell_type": "code",
   "execution_count": 20,
   "metadata": {},
   "outputs": [
    {
     "name": "stdout",
     "output_type": "stream",
     "text": [
      "MENU\n",
      "1. Fahrenheit to Celsius\n",
      "2. Celsius to Fahrenhit\n",
      "\n",
      "Degrees Celsius: 0.0\n",
      "\n",
      "\n",
      "Degrees Fahrenheit: 71.6\n",
      "\n",
      "\n",
      "Bye!\n"
     ]
    }
   ],
   "source": [
    "import temperature as temp\n",
    "\n",
    "def display_menu():\n",
    "    print(\"MENU\")\n",
    "    print(\"1. Fahrenheit to Celsius\")\n",
    "    print(\"2. Celsius to Fahrenhit\")\n",
    "    print()\n",
    "def convert_temp():\n",
    "    option = int(input(\"Enter a menu option: \"))\n",
    "    if option == 1:\n",
    "        f = int(input(\"Enter degrees Fahrenheit: \"))\n",
    "        c = temp.to_celsius(f)\n",
    "        c = round(c, 2)\n",
    "        print(\"Degrees Celsius:\", c)\n",
    "    elif option == 2:\n",
    "        c = int(input(\"Enter degrees Celsius: \"))\n",
    "        f = temp.to_fahrenheit(c)\n",
    "        f = round(f, 2)\n",
    "        print(\"Degrees Fahrenheit:\", f)\n",
    "    else:\n",
    "        print(\"You must enter a valid menu number.\")\n",
    "\n",
    "def main():\n",
    "    display_menu()\n",
    "    again = \"y\"\n",
    "    while again.lower() == \"y\":\n",
    "        convert_temp()\n",
    "        print()\n",
    "        again = input(\"Convert another temperature? (y/n): \")\n",
    "        print()\n",
    "    print(\"Bye!\")\n",
    "    \n",
    "if __name__ == \"__main__\":\n",
    "    main()"
   ]
  },
  {
   "cell_type": "markdown",
   "metadata": {},
   "source": [
    "## In-Class 1\n",
    "\n",
    "Write a program that randomly generates an integer\n",
    "between `0` and `100`, inclusive. The program prompts\n",
    "the user to enter a number continuously until the\n",
    "number matches the randomly generated number.\n",
    "For each user input, the program tells the user\n",
    "whether the input is too low or too high, so the user\n",
    "can choose the next input intelligently. In your code\n",
    "use functions and docstrings to document the\n",
    "functions"
   ]
  },
  {
   "cell_type": "code",
   "execution_count": 23,
   "metadata": {},
   "outputs": [
    {
     "name": "stdout",
     "output_type": "stream",
     "text": [
      "I'm thinking of a number between 0 and 100.\n",
      "Too high\n",
      "Too low\n",
      "You got it!\n"
     ]
    }
   ],
   "source": [
    "import random\n",
    "\n",
    "def generate_random_number():\n",
    "    \"\"\"Generates a random number between 0 and 100\"\"\"\n",
    "    return random.randint(0, 100)\n",
    "\n",
    "def get_user_input():\n",
    "    \"\"\"Prompts the user to enter a number\"\"\"\n",
    "    return int(input(\"Enter a number: \"))\n",
    "\n",
    "def compare_numbers(random_number, user_number):\n",
    "    \"\"\"Compares the random number with the user number\"\"\"\n",
    "    if user_number < 0 or user_number > 100:\n",
    "        return \"Out of range\"\n",
    "    elif user_number < random_number:\n",
    "        return \"Too low\"\n",
    "    elif user_number > random_number:\n",
    "        return \"Too high\"\n",
    "    else:\n",
    "        return \"You got it!\"\n",
    "    \n",
    "def main():\n",
    "    random_number = generate_random_number()\n",
    "    print(\"I'm thinking of a number between 0 and 100.\")\n",
    "    user_number = get_user_input()\n",
    "    result = compare_numbers(random_number, user_number)\n",
    "    while result != \"You got it!\":\n",
    "        print(result)\n",
    "        user_number = get_user_input()\n",
    "        result = compare_numbers(random_number, user_number)\n",
    "    print(result)\n",
    "\n",
    "if __name__ == \"__main__\":\n",
    "    main()"
   ]
  },
  {
   "cell_type": "markdown",
   "metadata": {},
   "source": [
    "## Lambda Notation\n",
    "\n",
    "Small anonymous functions can be created with the `lambda` keyword."
   ]
  },
  {
   "cell_type": "code",
   "execution_count": 1,
   "metadata": {},
   "outputs": [
    {
     "name": "stdout",
     "output_type": "stream",
     "text": [
      "Hello World\n"
     ]
    }
   ],
   "source": [
    "lambda : print('Hello World')\n",
    "greet = lambda : print('Hello World')\n",
    "# call the lambda\n",
    "greet()"
   ]
  },
  {
   "cell_type": "code",
   "execution_count": 3,
   "metadata": {},
   "outputs": [
    {
     "name": "stdout",
     "output_type": "stream",
     "text": [
      "6\n",
      "7\n"
     ]
    }
   ],
   "source": [
    "fun1=(lambda x: x * 2)\n",
    "print(fun1(3))\n",
    "\n",
    "fun2=(lambda x, y: x + y)\n",
    "print(fun2(3, 4))"
   ]
  }
 ],
 "metadata": {
  "kernelspec": {
   "display_name": "base",
   "language": "python",
   "name": "python3"
  },
  "language_info": {
   "codemirror_mode": {
    "name": "ipython",
    "version": 3
   },
   "file_extension": ".py",
   "mimetype": "text/x-python",
   "name": "python",
   "nbconvert_exporter": "python",
   "pygments_lexer": "ipython3",
   "version": "3.9.13"
  }
 },
 "nbformat": 4,
 "nbformat_minor": 2
}
