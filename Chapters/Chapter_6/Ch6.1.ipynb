{
 "cells": [
  {
   "cell_type": "markdown",
   "metadata": {},
   "source": [
    "# Chapter 6\n",
    "\n",
    "# Lists and Tuples\n",
    "\n",
    "Topics:\n",
    "- Sequences\n",
    "- Introduction to Lists\n",
    "- List Slicing\n",
    "- Finding Items in Lists with the in Operator\n",
    "- List Methods and Useful Built-in Functions\n",
    "- Copying Lists\n",
    "- Processing Lists\n",
    "- Two-Dimensional Lists"
   ]
  },
  {
   "cell_type": "markdown",
   "metadata": {},
   "source": [
    "## Sequences\n",
    "\n",
    "Sequence\n",
    ": an object that contains multiple items of data\n",
    "\n",
    "Lists and Strings are types of sequences in Python.\n",
    "\n",
    "## Lists\n",
    "\n",
    "List\n",
    ": an object that contains multiple data items\n",
    "\n",
    "`list = [item1, item2, etc.]`\n"
   ]
  },
  {
   "cell_type": "code",
   "execution_count": 12,
   "metadata": {},
   "outputs": [],
   "source": [
    "mylist = [1,2,10]"
   ]
  },
  {
   "cell_type": "code",
   "execution_count": 13,
   "metadata": {},
   "outputs": [
    {
     "data": {
      "text/plain": [
       "2"
      ]
     },
     "execution_count": 13,
     "metadata": {},
     "output_type": "execute_result"
    }
   ],
   "source": [
    "mylist[1]"
   ]
  },
  {
   "cell_type": "code",
   "execution_count": 14,
   "metadata": {},
   "outputs": [
    {
     "name": "stdout",
     "output_type": "stream",
     "text": [
      "[1, 20, 10]\n"
     ]
    }
   ],
   "source": [
    "mylist[1] = 20\n",
    "print(mylist)"
   ]
  },
  {
   "cell_type": "code",
   "execution_count": 15,
   "metadata": {},
   "outputs": [
    {
     "name": "stdout",
     "output_type": "stream",
     "text": [
      "[1, 'two', 3.0, [4, 'four'], 5]\n"
     ]
    }
   ],
   "source": [
    "mixedList = [1, \"two\", 3.0, [4, \"four\"], 5]\n",
    "print(mixedList)"
   ]
  },
  {
   "cell_type": "code",
   "execution_count": 16,
   "metadata": {},
   "outputs": [
    {
     "name": "stdout",
     "output_type": "stream",
     "text": [
      "[48.0, 30.5, 20.2, 100.0, 42.0]\n",
      "['staff', 'hat', 'shoes']\n",
      "['The Holy Grail', 1975, 9.99]\n",
      "[]\n"
     ]
    }
   ],
   "source": [
    "temps = [48.0, 30.5, 20.2, 100.0, 42.0] # 5 float values\n",
    "inventory = [\"staff\", \"hat\", \"shoes\"] # 3 str values\n",
    "movie = [\"The Holy Grail\", 1975, 9.99] # str, int, float\n",
    "test_scores = [] # an empty list\n",
    "\n",
    "# print the lists\n",
    "print(temps)\n",
    "print(inventory)\n",
    "print(movie)\n",
    "print(test_scores)"
   ]
  },
  {
   "cell_type": "markdown",
   "metadata": {},
   "source": [
    "## The Repetition Operator and Iterating over a List\n",
    "\n",
    "Repetition operator\n",
    ": makes multiple copies of a list and joins them together\n",
    "\n",
    "The `*` symbol is a repetition operator when applied to a sequence and an integer\n",
    "\n",
    "`list * n`"
   ]
  },
  {
   "cell_type": "code",
   "execution_count": 23,
   "metadata": {},
   "outputs": [
    {
     "name": "stdout",
     "output_type": "stream",
     "text": [
      "[0, 0, 0, 0, 0]\n"
     ]
    },
    {
     "data": {
      "text/plain": [
       "[1, 20, 10, 1, 20, 10, 1, 20, 10, 1, 20, 10, 1, 20, 10]"
      ]
     },
     "execution_count": 23,
     "metadata": {},
     "output_type": "execute_result"
    }
   ],
   "source": [
    "scores = [0] * 5 # create a list of 5 zeros\n",
    "print(scores)\n",
    "\n",
    "mylist * 5 # create a list of 5 copies of mylist"
   ]
  },
  {
   "cell_type": "code",
   "execution_count": 24,
   "metadata": {},
   "outputs": [
    {
     "data": {
      "text/plain": [
       "'=========='"
      ]
     },
     "execution_count": 24,
     "metadata": {},
     "output_type": "execute_result"
    }
   ],
   "source": [
    "'=' * 10"
   ]
  },
  {
   "cell_type": "code",
   "execution_count": 25,
   "metadata": {},
   "outputs": [
    {
     "data": {
      "text/plain": [
       "['=', '=', '=', '=', '=', '=', '=', '=', '=', '=']"
      ]
     },
     "execution_count": 25,
     "metadata": {},
     "output_type": "execute_result"
    }
   ],
   "source": [
    "['='] * 10"
   ]
  },
  {
   "cell_type": "markdown",
   "metadata": {},
   "source": [
    "## Indexing\n",
    "\n",
    "Index\n",
    ": a number specifying the position of an element in a list\n",
    "\n",
    "Starts at `0`. Negative indexes refer to elements at the end of the list (-1,-2)."
   ]
  },
  {
   "cell_type": "code",
   "execution_count": 26,
   "metadata": {},
   "outputs": [
    {
     "name": "stdout",
     "output_type": "stream",
     "text": [
      "48.0 30.5 20.2 100.0 42.0\n",
      "48.0 30.5 20.2 100.0 42.0\n"
     ]
    }
   ],
   "source": [
    "temps = [48.0, 30.5, 20.2, 100.0, 42.0]\n",
    "\n",
    "# print list with positive and negative indices\n",
    "print(temps[0], temps[1], temps[2], temps[3], temps[4])\n",
    "print(temps[-5], temps[-4], temps[-3], temps[-2], temps[-1])"
   ]
  },
  {
   "cell_type": "markdown",
   "metadata": {},
   "source": [
    "## Iterating over a List\n",
    "\n",
    "```python\n",
    "numbers= [99,100,101,102]\n",
    "for x in numbers:\n",
    "    print(x)\n",
    "```\n",
    "\n",
    "**Or**\n",
    "\n",
    "```python\n",
    "numbers= [99,100,101,102]\n",
    "count=0\n",
    "while count<5:\n",
    "    print(numbers[count])\n",
    "    count+=1\n",
    "```\n",
    "\n",
    "## The `len` Function\n",
    "\n",
    "`len` function\n",
    ": returns the length of a sequence such as a list\n",
    "\n",
    "`size = len(my_list)`"
   ]
  },
  {
   "cell_type": "markdown",
   "metadata": {},
   "source": [
    "## In-Class 1\n",
    "\n",
    "Create a list of the following numbers:\n",
    "48.0, 30.5, 20.2, 100.0, 42.0, 50.5, 20.6,\n",
    "606.5, 501.2\n",
    "\n",
    "Iterate over the list and print out:\n",
    "- The index of the largest number\n",
    "- The index of the smallest number"
   ]
  },
  {
   "cell_type": "code",
   "execution_count": 31,
   "metadata": {},
   "outputs": [
    {
     "name": "stdout",
     "output_type": "stream",
     "text": [
      "The largest value is 606.5\n",
      "The largest index is 7\n",
      "\n",
      "The smallest value is 20.2\n",
      "The smallest index is 2\n"
     ]
    }
   ],
   "source": [
    "mylist = [48.0, 30.5, 20.2, 100.0, 42.0, 50.5, 20.6, 606.5, 501.2]\n",
    "\n",
    "largest_index = 0\n",
    "smallest_index = 0\n",
    "\n",
    "for i in range(len(mylist)):\n",
    "    if mylist[i] > mylist[largest_index]:\n",
    "        largest_index = i\n",
    "\n",
    "    if mylist[i] < mylist[smallest_index]:\n",
    "        smallest_index = i\n",
    "\n",
    "print(\"The largest value is\", mylist[largest_index])\n",
    "print(\"The largest index is\", largest_index)\n",
    "print()\n",
    "print(\"The smallest value is\", mylist[smallest_index])\n",
    "print(\"The smallest index is\", smallest_index)"
   ]
  },
  {
   "cell_type": "markdown",
   "metadata": {},
   "source": [
    "## Lists Are Mutable\n",
    "\n",
    "Mutable sequence\n",
    ": the items in the sequence can be changed\n",
    "\n",
    "An expression such as `list[1] = new_value` can be used to assign a new value to a list element\n",
    "\n",
    "### `append()` Method\n",
    "\n",
    "Use the `.append()` function on a list to add an element to the end of it."
   ]
  },
  {
   "cell_type": "code",
   "execution_count": 32,
   "metadata": {},
   "outputs": [
    {
     "name": "stdout",
     "output_type": "stream",
     "text": [
      "['staff', 'hat', 'bread', 'robe']\n"
     ]
    }
   ],
   "source": [
    "\n",
    "def add_to_list(list, item):\n",
    "    list.append(item) # list object changed\n",
    "\n",
    "# list object created\n",
    "inventory = [\"staff\", \"hat\", \"bread\"]\n",
    "add_to_list(inventory, \"robe\")\n",
    "print(inventory) # [\"staff\", \"hat\", \"bread\", \"robe\"]\n",
    "# NOTE: no need to return list object"
   ]
  },
  {
   "cell_type": "code",
   "execution_count": 35,
   "metadata": {},
   "outputs": [
    {
     "name": "stdout",
     "output_type": "stream",
     "text": [
      "The list is [12, 32, 43, 2, 5, 65, 533, 54, 43]\n",
      "The largest value is 533\n",
      "It's index is 6\n",
      "\n",
      "The smallest value is 2\n",
      "It's index is 3\n"
     ]
    }
   ],
   "source": [
    "mylist = []\n",
    "count=0\n",
    "while count < 9:\n",
    "    x = int(input(\"Enter a number: \"))\n",
    "    mylist.append(x)\n",
    "    count += 1\n",
    "    \n",
    "print(\"The list is\", mylist)\n",
    "\n",
    "largest_index = 0\n",
    "smallest_index = 0\n",
    "\n",
    "for i in range(len(mylist)):\n",
    "    if mylist[i] > mylist[largest_index]:\n",
    "        largest_index = i\n",
    "\n",
    "    if mylist[i] < mylist[smallest_index]:\n",
    "        smallest_index = i\n",
    "\n",
    "print(\"The largest value is\", mylist[largest_index])\n",
    "print(\"It's index is\", largest_index)\n",
    "print()\n",
    "print(\"The smallest value is\", mylist[smallest_index])\n",
    "print(\"It's index is\", smallest_index)"
   ]
  },
  {
   "cell_type": "markdown",
   "metadata": {},
   "source": [
    "## The `append()`, `insert()`, and `remove()` methods"
   ]
  },
  {
   "cell_type": "code",
   "execution_count": 38,
   "metadata": {},
   "outputs": [
    {
     "name": "stdout",
     "output_type": "stream",
     "text": [
      "['staff', 'hat', 'shoes', 'robe', 'bread', 'potion']\n",
      "['staff', 'hat', 'robe', 'bread', 'potion']\n"
     ]
    }
   ],
   "source": [
    "inventory = [\"staff\", \"hat\", \"shoes\", \"bread\", \"potion\"]\n",
    "\n",
    "inventory.insert(3, \"robe\") # insert \"robe\" at index 3\n",
    "print(inventory) \n",
    "inventory.remove(\"shoes\") # remove \"shoes\" from list\n",
    "print(inventory)"
   ]
  },
  {
   "cell_type": "markdown",
   "metadata": {},
   "source": [
    "## The `pop()` method"
   ]
  },
  {
   "cell_type": "code",
   "execution_count": 41,
   "metadata": {},
   "outputs": [
    {
     "name": "stdout",
     "output_type": "stream",
     "text": [
      "bread\n",
      "hat\n",
      "['staff', 'robe']\n"
     ]
    }
   ],
   "source": [
    "inventory = [\"staff\", \"hat\", \"robe\", \"bread\"]\n",
    "item = inventory.pop() # item = \"bread\"\n",
    "print(item)\n",
    "i = inventory.index(\"hat\")\n",
    "item = inventory.pop(i) # item = \"hat\"\n",
    "print(item)\n",
    "print(inventory)"
   ]
  },
  {
   "cell_type": "markdown",
   "metadata": {},
   "source": [
    "## `min` and `max`functions"
   ]
  },
  {
   "cell_type": "code",
   "execution_count": 1,
   "metadata": {},
   "outputs": [
    {
     "name": "stdout",
     "output_type": "stream",
     "text": [
      "The largest value is 5\n",
      "The smallest value is 1\n"
     ]
    }
   ],
   "source": [
    "newlist = [1, 2, 3, 4, 5]\n",
    "\n",
    "maximum = max(newlist)\n",
    "minimum = min(newlist)\n",
    "print(\"The largest value is\", maximum)\n",
    "print(\"The smallest value is\", minimum)\n"
   ]
  },
  {
   "cell_type": "markdown",
   "metadata": {},
   "source": [
    "## `sort()` function"
   ]
  },
  {
   "cell_type": "code",
   "execution_count": 56,
   "metadata": {},
   "outputs": [
    {
     "name": "stdout",
     "output_type": "stream",
     "text": [
      "[100, 50, 700]\n",
      "[50, 100, 700]\n",
      "[50, 100, 600, 700]\n"
     ]
    }
   ],
   "source": [
    "mylist = [100,50,700]\n",
    "\n",
    "print(mylist)\n",
    "mylist.sort()\n",
    "print(mylist)\n",
    "\n",
    "mylist = [100,50,700,600]\n",
    "# sort the list and assign to new list\n",
    "s = sorted(mylist)\n",
    "print(s)"
   ]
  },
  {
   "cell_type": "markdown",
   "metadata": {},
   "source": [
    "## `del` method"
   ]
  },
  {
   "cell_type": "code",
   "execution_count": 63,
   "metadata": {},
   "outputs": [
    {
     "name": "stdout",
     "output_type": "stream",
     "text": [
      "[100, 700, 600]\n"
     ]
    }
   ],
   "source": [
    "mylist = [100,50,700,600]\n",
    "del mylist[1]\n",
    "print(mylist)"
   ]
  },
  {
   "cell_type": "markdown",
   "metadata": {},
   "source": [
    "## Functions from Random module: `choice`, `shuffle`"
   ]
  },
  {
   "cell_type": "code",
   "execution_count": 65,
   "metadata": {},
   "outputs": [
    {
     "name": "stdout",
     "output_type": "stream",
     "text": [
      "5\n",
      "[14, 14, 2, 15, 8, 84, 3, 5, 10]\n"
     ]
    }
   ],
   "source": [
    "import random\n",
    "numlist = [5, 15, 84, 3, 14, 2, 8, 10, 14]\n",
    "choice = random.choice(numlist) # gets random item\n",
    "print(choice)\n",
    "random.shuffle(numlist) # shuffles items randomly\n",
    "print(numlist)"
   ]
  },
  {
   "cell_type": "markdown",
   "metadata": {},
   "source": [
    "## In-class 2\n",
    "\n",
    "Write a Python program to read 15 numbers and store them in a list\n",
    "- Print out the list\n",
    "- Ask user to input a number, search the list for that input and replace all occurrences by 0, print out the modified list? \n",
    "\n",
    "See the example below:\n",
    "- User input this array: `1,2,3,6,2,6,7,8,9,0,11,13,2,3,8`\n",
    "- User input element `2` to search for\n",
    "- The modified array will be: `1,0,3,6,0,6,7,8,9,0,11,13,0,3,8`\n",
    "\n",
    "Print out the maximum and minimum number in the list"
   ]
  },
  {
   "cell_type": "code",
   "execution_count": 2,
   "metadata": {},
   "outputs": [
    {
     "name": "stdout",
     "output_type": "stream",
     "text": [
      "The list is [23, 13, 213, 43, 23, 43, 65, 76, 43, 5, 4, 3, 7, 8, 5]\n",
      "The modified list is [23, 13, 213, 43, 23, 43, 65, 76, 43, 0, 4, 3, 7, 8, 0]\n",
      "The maximum value is 213\n",
      "The minimum value is 0\n"
     ]
    }
   ],
   "source": [
    "def read_numbers():\n",
    "    mylist = []\n",
    "    count=0\n",
    "    while count < 15:\n",
    "        x = int(input(\"Enter a number: \"))\n",
    "        mylist.append(x)\n",
    "        count += 1\n",
    "    return mylist\n",
    "\n",
    "def search_replace(mylist, item):\n",
    "    for i in range(len(mylist)):\n",
    "        if mylist[i] == item:\n",
    "            mylist[i] = 0\n",
    "    return mylist\n",
    "\n",
    "def main():\n",
    "    mylist = read_numbers()\n",
    "    print(\"The list is\", mylist)\n",
    "    item = int(input(\"Enter a number to search for: \"))\n",
    "    newlist = search_replace(mylist, item)\n",
    "    print(\"The modified list is\", newlist)\n",
    "    print(\"The maximum value is\", max(mylist))\n",
    "    print(\"The minimum value is\", min(mylist))\n",
    "\n",
    "main()"
   ]
  }
 ],
 "metadata": {
  "kernelspec": {
   "display_name": "base",
   "language": "python",
   "name": "python3"
  },
  "language_info": {
   "codemirror_mode": {
    "name": "ipython",
    "version": 3
   },
   "file_extension": ".py",
   "mimetype": "text/x-python",
   "name": "python",
   "nbconvert_exporter": "python",
   "pygments_lexer": "ipython3",
   "version": "3.9.13"
  }
 },
 "nbformat": 4,
 "nbformat_minor": 2
}
