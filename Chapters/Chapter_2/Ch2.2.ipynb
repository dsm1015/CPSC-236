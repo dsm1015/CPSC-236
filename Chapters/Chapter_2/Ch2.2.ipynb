{
 "cells": [
  {
   "cell_type": "markdown",
   "metadata": {},
   "source": [
    "# Chapter 2\n",
    "# How to Code Control Statements \n",
    "\n",
    "## The `if-elif-else` statement"
   ]
  },
  {
   "cell_type": "code",
   "execution_count": 2,
   "metadata": {},
   "outputs": [
    {
     "name": "stdout",
     "output_type": "stream",
     "text": [
      "Grade: B\n"
     ]
    }
   ],
   "source": [
    "# An if statement used for grading\n",
    "\n",
    "score = int(input(\"Enter test score: \"))\n",
    "if score >= 90:\n",
    "    grade = \"A\"\n",
    "elif score >= 80:\n",
    "    grade = \"B\"\n",
    "elif score >= 70:\n",
    "    grade = \"C\"\n",
    "elif score >= 60:\n",
    "    grade = \"D\"\n",
    "else:\n",
    "    grade = \"F\"\n",
    "print(\"Grade: \" + grade)"
   ]
  },
  {
   "cell_type": "code",
   "execution_count": 4,
   "metadata": {},
   "outputs": [],
   "source": [
    "# Another way the if statement could be coded\n",
    "\n",
    "score = int(input(\"Enter test score: \"))\n",
    "if score >= 90 and score <= 100:\n",
    "    grade = \"A\"\n",
    "elif score >= 80 and score < 90:\n",
    "    grade = \"B\"\n",
    "elif score >= 70 and score < 80:\n",
    "    grade = \"C\"\n",
    "elif score >= 60 and score < 70:\n",
    "    grade = \"D\"\n",
    "elif score < 60:\n",
    "    grade = \"F\"\n",
    "print(\"Grade: \" + grade)\n"
   ]
  },
  {
   "cell_type": "markdown",
   "metadata": {},
   "source": [
    "## In-Class 1\n",
    "\n",
    "Input temp:\n",
    "- if 80 <= temp <=100, swim\n",
    "- if 60 <= temp <80, play golf \n",
    "- temp < 60, eat\n",
    "- temp >100, nap\n"
   ]
  },
  {
   "cell_type": "code",
   "execution_count": 7,
   "metadata": {},
   "outputs": [
    {
     "name": "stdout",
     "output_type": "stream",
     "text": [
      "Activity: eat\n"
     ]
    }
   ],
   "source": [
    "temp = int(input(\"Enter the temp: \"))\n",
    "if temp >= 80 and temp <=100:\n",
    "    activity = \"swim\"\n",
    "elif temp >= 60 and temp < 80:\n",
    "    activity = \"golf\"\n",
    "elif temp < 60:\n",
    "    activity = \"eat\"\n",
    "elif temp > 100:\n",
    "    activity = \"nap\"\n",
    "else:\n",
    "    print(\"invalid input\")   # Else is optional\n",
    "\n",
    "print(\"Activity: \" + activity)"
   ]
  },
  {
   "cell_type": "markdown",
   "metadata": {},
   "source": [
    "## Comparing Strings\n",
    "\n",
    "- Strings can be compared using the `==` and `!=` operators\n",
    "- String comparisons are case sensitive\n",
    "- Strings can be compared using `>`, `<`, `>=`, and `<=`\n",
    "- Compares **ASCII** values of the strings\n",
    "\n",
    "| Condition Boolean | result\n",
    "|-----------------|-------|\n",
    "| \"apple\" < \"Apple\" | False\n",
    "| \"App\" < \"Apple\" | True\n",
    "| \"1\" < \"5\" | True\n",
    "| \"10\" < \"5\" | False\n",
    "\n",
    "Sort sequence for string comparison:\n",
    "- Digits from 0-9\n",
    "- Uppercase letters from A-Z\n",
    "- Lowercase letters from a-z\n",
    "\n",
    "## String Methods\n",
    "\n",
    "- `lower()`\n",
    "- `upper()`\n",
    "\n",
    "```python\n",
    "string1 = \"Mary\"\n",
    "string2 = \"mary\"\n",
    "string1 == string2 # False\n",
    "string1.lower() == string2.lower() # True\n",
    "print(string1) # prints 'Mary'\n",
    "print(string2) # prints 'mary'\n",
    "```\n",
    "\n",
    "You can use methods like `lower()` or `upper()` to simplify code and validate input data. For example, instead of evaluating 'Y' or 'y' you can just evaluate string.lower():\n",
    "```python\n",
    "answer == \"y\" or answer == \"Y\"\n",
    "\n",
    "#Instead use this\n",
    "answer.lower() == 'y'\n",
    "```\n",
    "\n",
    "See the below example of a user interface with input validation."
   ]
  },
  {
   "cell_type": "code",
   "execution_count": 8,
   "metadata": {},
   "outputs": [
    {
     "name": "stdout",
     "output_type": "stream",
     "text": [
      "The Miles Per Gallon program\n",
      "\n",
      "Miles Per Gallon:  0.5\n",
      "\n",
      "Bye\n"
     ]
    }
   ],
   "source": [
    "# display a welcome message\n",
    "print(\"The Miles Per Gallon program\")\n",
    "print()\n",
    "# get input from the user\n",
    "miles_driven = float(input(\"Enter miles driven: \"))\n",
    "gallons_used = float(input(\"Enter gallons of gas used: \"))\n",
    "\n",
    "if miles_driven <= 0:\n",
    "    print(\"Miles driven must be greater than zero. Try again.\")\n",
    "elif gallons_used <= 0:\n",
    "    print(\"Gallons used must be greater than zero. Try again.\")\n",
    "else:\n",
    "    # calculate and display miles per gallon\n",
    "    mpg = round((miles_driven / gallons_used), 2)\n",
    "    print(\"Miles Per Gallon: \", mpg)\n",
    "\n",
    "print()\n",
    "print(\"Bye\")"
   ]
  },
  {
   "cell_type": "markdown",
   "metadata": {},
   "source": [
    "## Invoice Program example"
   ]
  },
  {
   "cell_type": "code",
   "execution_count": 33,
   "metadata": {},
   "outputs": [
    {
     "name": "stdout",
     "output_type": "stream",
     "text": [
      "The Invoice program\n",
      "\n",
      "\n",
      "Invoice total:\t\t1200.0\n",
      "Discount percent:\t0.25\n",
      "Discount amount:\t300.0\n",
      "New invoice total:\t900.0\n",
      "\n",
      "Bye\n"
     ]
    }
   ],
   "source": [
    "# display a welcome message\n",
    "print(\"The Invoice program\")\n",
    "print()\n",
    "# get user entries\n",
    "customer_type = input(\"Enter customer type (r/w):\\t\")\n",
    "invoice_total = float(input(\"Enter invoice total:\\t\\t\"))\n",
    "print()\n",
    "\n",
    "# determine discounts for Retail customers\n",
    "if customer_type.lower() == \"r\":\n",
    "    if invoice_total > 0 and invoice_total < 100:\n",
    "        discount_percent = 0\n",
    "    elif invoice_total >= 100 and invoice_total < 250:\n",
    "        discount_percent = .1\n",
    "    elif invoice_total >= 250 and invoice_total < 500:\n",
    "        discount_percent = .2\n",
    "    elif invoice_total >= 500:\n",
    "        discount_percent = .25\n",
    "# determine discounts for Wholesale customers\n",
    "elif customer_type.lower() == \"w\":\n",
    "    if invoice_total > 0 and invoice_total < 500:\n",
    "        discount_percent = .4\n",
    "    elif invoice_total >= 500:\n",
    "        discount_percent = .5\n",
    "# set discount to zero if neither Retail or Wholesale\n",
    "else:\n",
    "    discount_percent = 0\n",
    "\n",
    "# calculate discount amount and new invoice total\n",
    "discount_amount = round(invoice_total * discount_percent, 2)\n",
    "new_invoice_total = invoice_total - discount_amount\n",
    "# display the results\n",
    "print(\"Invoice total:\\t\\t\" + str(invoice_total))\n",
    "print(\"Discount percent:\\t\" + str(discount_percent))\n",
    "print(\"Discount amount:\\t\" + str(discount_amount))\n",
    "print(\"New invoice total:\\t\" + str(new_invoice_total))\n",
    "print()\n",
    "print(\"Bye\")\n"
   ]
  },
  {
   "cell_type": "markdown",
   "metadata": {},
   "source": [
    "# Part 2: Loops\n",
    "\n",
    "Loops allow us to repeat the same task multiple times.\n",
    "\n",
    "## The `while` loop\n",
    "\n",
    "While the condition is `True`, do something.\n",
    "\n",
    "Two parts:\n",
    "- Condition tested for true or false value\n",
    "- Statements repeated as long as condition is true\n",
    "\n",
    "Syntax:\n",
    "```python\n",
    "while condition:\n",
    "    statements\n",
    "```\n"
   ]
  },
  {
   "cell_type": "code",
   "execution_count": 9,
   "metadata": {},
   "outputs": [
    {
     "name": "stdout",
     "output_type": "stream",
     "text": [
      "Hello!\n",
      "Hello!\n",
      "Hello!\n",
      "Bye!\n"
     ]
    }
   ],
   "source": [
    "# A while loop that continues as long as the user enters ‘y’ or ‘Y’\n",
    "choice = \"y\"\n",
    "while choice.lower() == \"y\":\n",
    "    print(\"Hello!\")\n",
    "    choice = input(\"Say hello again? (y/n): \")\n",
    "print(\"Bye!\") # runs when loop ends"
   ]
  },
  {
   "cell_type": "code",
   "execution_count": 10,
   "metadata": {},
   "outputs": [
    {
     "name": "stdout",
     "output_type": "stream",
     "text": [
      "0 1 2 3 4 \n",
      "The loop has ended.\n"
     ]
    }
   ],
   "source": [
    "# A while loop that prints the numbers 0 through 4 to the console\n",
    "counter = 0\n",
    "while counter < 5:\n",
    "    print(counter, end=\" \")\n",
    "    counter += 1\n",
    "print(\"\\nThe loop has ended.\")"
   ]
  },
  {
   "cell_type": "markdown",
   "metadata": {},
   "source": [
    "Be careful of **Infinite Loops**!:\n",
    "\n",
    "```python\n",
    "while True:\n",
    "    # any statements in this loop run forever\n",
    "    # unless a break statement is executed as shown later    \n",
    "```\n",
    "\n",
    "Sentinel\n",
    ": special value that marks the end of a sequence of items\n",
    "\n",
    "When program reaches a sentinel, it knows that the end of the sequence of items was reached,\n",
    "and the loop terminates\n",
    "\n",
    "Input Validation\n",
    ": inspecting input before it is processed by the program"
   ]
  },
  {
   "cell_type": "markdown",
   "metadata": {},
   "source": [
    "## In-Class 2\n",
    "Write a program that reads and calculates the sum of an unspecified number of integers. The input 0 signifies the end of the input."
   ]
  },
  {
   "cell_type": "code",
   "execution_count": 13,
   "metadata": {},
   "outputs": [
    {
     "name": "stdout",
     "output_type": "stream",
     "text": [
      "Enter 0 to end input\n",
      "Entered integer:  13\n",
      "Entered integer:  23\n",
      "Entered integer:  12\n",
      "Entered integer:  0\n",
      "Sum:  48\n"
     ]
    }
   ],
   "source": [
    "x = 1\n",
    "sum = 0\n",
    "print(\"Enter 0 to end input\")\n",
    "print(\"=========================\")\n",
    "while x != 0:\n",
    "    x = int(input(\"Enter an integer: \"))\n",
    "    print(\"Entered integer: \", x)\n",
    "    sum += x\n",
    "print(\"=========================\")\n",
    "print(\"Sum: \", sum)"
   ]
  },
  {
   "cell_type": "markdown",
   "metadata": {},
   "source": [
    "## In-Class 3\n",
    "Write a program to find the factorial value of any positive number entered through the keyboard"
   ]
  },
  {
   "cell_type": "code",
   "execution_count": 32,
   "metadata": {},
   "outputs": [
    {
     "name": "stdout",
     "output_type": "stream",
     "text": [
      "5! = 120\n"
     ]
    }
   ],
   "source": [
    "entered = int(input(\"Enter a positive number: \"))\n",
    "while entered <= 0:\n",
    "    entered = int(input(\"Enter a valid positive number: \"))\n",
    "total = 1\n",
    "x = entered\n",
    "while x != 0:\n",
    "    total *= x\n",
    "    x -= 1\n",
    "print(str(entered)+\"! =\", total)\n"
   ]
  },
  {
   "cell_type": "markdown",
   "metadata": {},
   "source": [
    "## The `for` loop\n",
    "\n",
    "Count-Controlled loop\n",
    ": iterates a specific number of times\n",
    "\n",
    "General format:\n",
    "```python\n",
    "for variable in [val1, val2, etc]:\n",
    "    statements\n",
    "```\n",
    "### Using `range` with the `for` loop\n",
    "\n",
    "`range` returns an iterable object\n",
    "\n",
    "`range` characteristics:\n",
    "- One argument: used as ending limit\n",
    "- Two arguments: starting value and ending limit\n",
    "- Three arguments: third argument is step value\n",
    "```python\n",
    "range(stop)\n",
    "range(start, stop[, step])\n",
    "```\n",
    "\n",
    "Examples:\n",
    "```python\n",
    "range(5) # 0, 1, 2, 3, 4\n",
    "range(1, 6) # 1, 2, 3, 4, 5\n",
    "range(2, 10, 2) # 2, 4, 6, 8\n",
    "range(5, 0, -1) # 5, 4, 3, 2, 1\n",
    "```\n"
   ]
  },
  {
   "cell_type": "code",
   "execution_count": 26,
   "metadata": {},
   "outputs": [
    {
     "name": "stdout",
     "output_type": "stream",
     "text": [
      "0 1 2 3 4 \n",
      "The loop has ended.\n"
     ]
    }
   ],
   "source": [
    "# A for loop that prints the numbers 0 through 4\n",
    "for i in range(5):\n",
    "    print(i, end=\" \")\n",
    "print(\"\\nThe loop has ended.\")"
   ]
  },
  {
   "cell_type": "code",
   "execution_count": 27,
   "metadata": {},
   "outputs": [
    {
     "name": "stdout",
     "output_type": "stream",
     "text": [
      "10\n"
     ]
    }
   ],
   "source": [
    "# A for loop that sums the numbers 1 through 4\n",
    "sum_of_numbers = 0\n",
    "for i in range(1,5):\n",
    "    sum_of_numbers += i\n",
    "print(sum_of_numbers)"
   ]
  },
  {
   "cell_type": "markdown",
   "metadata": {},
   "source": [
    "## In-Class 4\n",
    "Write a program that prompts the user to enter two positive\n",
    "integers and finds their greatest common divisor.\n",
    "\n",
    "Solution: \n",
    "\n",
    "Suppose you enter two integers 4 and 2, their\n",
    "greatest common divisor is 2. Suppose you enter two\n",
    "integers 16 and 24, their greatest common divisor is 8. So,\n",
    "how do you find the greatest common divisor? Let the two\n",
    "input integers be n1 and n2. You know number 1 is a\n",
    "common divisor, but it may not be the greatest commons\n",
    "divisor. So you can check whether k (for k = 2, 3, 4, and so\n",
    "on) is a common divisor for n1 and n2, until k is greater\n",
    "than n1 or n2."
   ]
  },
  {
   "cell_type": "code",
   "execution_count": 31,
   "metadata": {},
   "outputs": [
    {
     "name": "stdout",
     "output_type": "stream",
     "text": [
      "Numbers: 13 27\n",
      "Greatest common divisor: 1\n"
     ]
    }
   ],
   "source": [
    "\n",
    "num1 = int(input(\"Enter a positive integer: \"))\n",
    "num2 = int(input(\"Enter another positive integer: \"))\n",
    "while num1 <= 0 or num2 <= 0:\n",
    "    print(\"Invalid input, try again\")\n",
    "    num1 = int(input(\"Enter a positive integer: \"))\n",
    "    num2 = int(input(\"Enter another positive integer: \"))\n",
    "\n",
    "# Swap the numbers if num1 is greater than num2\n",
    "if num1 > num2:\n",
    "    num1, num2 = num2, num1\n",
    "\n",
    "# Use the larger number as the range\n",
    "for i in range(num1, 0, -1):\n",
    "    if num1 % i == 0 and num2 % i == 0:\n",
    "        gcd = i\n",
    "        break\n",
    "\n",
    "print(\"Numbers:\", num1, num2)\n",
    "print(\"Greatest common divisor:\", gcd)"
   ]
  }
 ],
 "metadata": {
  "kernelspec": {
   "display_name": "Python 3",
   "language": "python",
   "name": "python3"
  },
  "language_info": {
   "codemirror_mode": {
    "name": "ipython",
    "version": 3
   },
   "file_extension": ".py",
   "mimetype": "text/x-python",
   "name": "python",
   "nbconvert_exporter": "python",
   "pygments_lexer": "ipython3",
   "version": "3.9.6"
  }
 },
 "nbformat": 4,
 "nbformat_minor": 2
}
