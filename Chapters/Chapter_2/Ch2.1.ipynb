{
 "cells": [
  {
   "cell_type": "markdown",
   "metadata": {},
   "source": [
    "# Chapter 2\n",
    "# How to Code Control Statements\n",
    "# Part 1 - Selection\n",
    "\n",
    "## The `if` Statement\n",
    "\n",
    "Python syntax is much different than other languages. Instead of using `{}` blocks, it uses indentation.\n",
    "\n",
    "Syntax:\n",
    "```python\n",
    "if condition:\n",
    "    Statement\n",
    "    Statement\n",
    "```\n",
    "\n",
    "See below if statement examples:"
   ]
  },
  {
   "cell_type": "code",
   "execution_count": null,
   "metadata": {},
   "outputs": [],
   "source": [
    "\n",
    "x = 10\n",
    "if x<0:\n",
    "    print(\"negative\")\n",
    "print(\"End\") # \"End\" should print because it is not indented"
   ]
  },
  {
   "cell_type": "code",
   "execution_count": null,
   "metadata": {},
   "outputs": [],
   "source": [
    "x = 10\n",
    "if x<0:\n",
    "    print(\"negative\")\n",
    "    print(\"End\") # \"End\" should not print because it is in the block"
   ]
  },
  {
   "cell_type": "markdown",
   "metadata": {},
   "source": [
    "# In Class 1\n",
    "Write a program to find the absolute value of a number entered by the user."
   ]
  },
  {
   "cell_type": "code",
   "execution_count": 3,
   "metadata": {},
   "outputs": [
    {
     "name": "stdout",
     "output_type": "stream",
     "text": [
      "12.0\n",
      "-12.0\n"
     ]
    }
   ],
   "source": [
    "x = int(input(\"Enter an integer: \"))\n",
    "\n",
    "if x < 0:\n",
    "    x = x*-1\n",
    "\n",
    "print(\"Absoulte Value: \"+str(x))"
   ]
  },
  {
   "cell_type": "markdown",
   "metadata": {},
   "source": [
    "## The if-else Statement\n",
    "\n",
    "Dual alternative decision structure\n",
    ": two possible paths of execution\n",
    "\n",
    "Syntax:\n",
    "```python\n",
    "if condition:\n",
    "    statements\n",
    "else:\n",
    "    other statements\n",
    "```\n",
    "\n",
    "*Remember to take special note of the indentation of the statements*"
   ]
  },
  {
   "cell_type": "code",
   "execution_count": 5,
   "metadata": {},
   "outputs": [
    {
     "name": "stdout",
     "output_type": "stream",
     "text": [
      "Customer type must be 'r' or 'w'.\n"
     ]
    }
   ],
   "source": [
    "is_valid = True\n",
    "customer_type = input(\"Enter customer type (r/w): \")\n",
    "if customer_type == \"r\" or customer_type == \"w\":\n",
    "    pass # This statement does nothing\n",
    "else:\n",
    "    print(\"Customer type must be 'r' or 'w'.\")\n",
    "    is_valid - False"
   ]
  },
  {
   "cell_type": "markdown",
   "metadata": {},
   "source": [
    "# In Class 2\n",
    "Write a program to input an integer number. The program should then output the number and a message saying whether the number is positive, negative, or zero."
   ]
  },
  {
   "cell_type": "code",
   "execution_count": 9,
   "metadata": {},
   "outputs": [
    {
     "name": "stdout",
     "output_type": "stream",
     "text": [
      "6 is positive.\n"
     ]
    }
   ],
   "source": [
    "x = int(input(\"Enter an integer: \"))\n",
    "\n",
    "if x > 0:\n",
    "    print(str(x)+\" is positive.\")\n",
    "else:\n",
    "    if x < 0:\n",
    "        print(str(x)+\" is negative.\")\n",
    "    else:\n",
    "        print(str(x)+\" is zero.\")"
   ]
  },
  {
   "cell_type": "markdown",
   "metadata": {},
   "source": [
    "## Logical Operators\n",
    "\n",
    "Logical operators\n",
    ": operators that can be used to create complex Boolean expressions\n",
    "\n",
    "Truth Table for `and`:\n",
    "| Expression      | Value |\n",
    "|-----------------|-------|\n",
    "| `False` and `False` | `False` |\n",
    "| `False` and `True`  | `False` |\n",
    "| `True` and `False`  | `False` |\n",
    "| `True` and `True`   | `True`  |\n",
    "\n",
    "Truth Table for `or`:\n",
    "| Expression      | Value |\n",
    "|-----------------|-------|\n",
    "| `False` or `False` | `False` |\n",
    "| `False` or `True`  | `True` |\n",
    "| `True` or `False`  | `True` |\n",
    "| `True` or `True`   | `True`  |\n",
    "\n",
    "Truth Table for `not`:\n",
    "| Expression      | Value |\n",
    "|-----------------|-------|\n",
    "| `True` | `False` |\n",
    "| `False` | `True` |\n",
    "\n",
    "### Short Circuit Evaluation\n",
    "\n",
    "Knowing the short circuit evaluation can help you order conditions to save time. For example, if you know the `x<0` is most likely going to be false, you may want to put it at the beginning of a long `and` statement.\n"
   ]
  },
  {
   "cell_type": "code",
   "execution_count": 11,
   "metadata": {},
   "outputs": [],
   "source": [
    "# An if statement that validates the range of a score\n",
    "score = int(input(\"Enter test score: \"))\n",
    "total_score = 0\n",
    "if score >= 0 and score <= 100:\n",
    "    total_score += score\n",
    "else:\n",
    "    print(\"Test score must be from 0 - 100.\")"
   ]
  },
  {
   "cell_type": "markdown",
   "metadata": {},
   "source": [
    "# In Class 3\n",
    "Input the customer name and gender and greet the customer as Mr. or Ms. followed by their last name (have your code work for F or f or M or m)."
   ]
  },
  {
   "cell_type": "code",
   "execution_count": 17,
   "metadata": {},
   "outputs": [
    {
     "name": "stdout",
     "output_type": "stream",
     "text": [
      "Hello  Maxwell\n"
     ]
    }
   ],
   "source": [
    "name = input(\"Enter customer last name: \")\n",
    "gender = input(\"Enter customer gender as M or F: \")\n",
    "prefix=\"\"\n",
    "\n",
    "if gender == 'm' or gender == 'M':\n",
    "    prefix=\"Mr.\"\n",
    "else:\n",
    "    if(gender == 'f' or gender == 'F'):\n",
    "        prefix=\"Mrs.\"\n",
    "\n",
    "print(\"Hello \"+prefix+\" \"+name)\n"
   ]
  },
  {
   "cell_type": "markdown",
   "metadata": {},
   "source": [
    "# In Class 4\n",
    "\n",
    "Write a program to input three numbers and print out the largest number."
   ]
  },
  {
   "cell_type": "code",
   "execution_count": 20,
   "metadata": {},
   "outputs": [
    {
     "name": "stdout",
     "output_type": "stream",
     "text": [
      "Numbers Entered: 23, 354, 54\n",
      "Largest number: 354\n"
     ]
    }
   ],
   "source": [
    "n1 = int(input(\"Number 1: \"))\n",
    "n2 = int(input(\"Number 2: \"))\n",
    "n3 = int(input(\"Number 3: \"))\n",
    "\n",
    "print(\"Numbers Entered: \"+str(n1)+\", \"+str(n2)+\", \" +str(n3))\n",
    "\n",
    "if n1 > n2 and n1>n3:\n",
    "    print(\"Largest number: \"+str(n1))\n",
    "\n",
    "if n2 > n1 and n2>n3:\n",
    "    print(\"Largest number: \"+str(n2))\n",
    "\n",
    "if n3 > n1 and n3>n2:\n",
    "    print(\"Largest number: \"+str(n3))"
   ]
  },
  {
   "cell_type": "markdown",
   "metadata": {},
   "source": [
    "A better way to do the previous example is using the **if-elif-else** statement. This way, we reduce the amount of times we evaluate the conditions."
   ]
  },
  {
   "cell_type": "code",
   "execution_count": null,
   "metadata": {},
   "outputs": [],
   "source": [
    "n1 = int(input(\"Number 1: \"))\n",
    "n2 = int(input(\"Number 2: \"))\n",
    "n3 = int(input(\"Number 3: \"))\n",
    "\n",
    "print(\"Numbers Entered: \"+str(n1)+\", \"+str(n2)+\", \" +str(n3))\n",
    "\n",
    "if n1 > n2 and n1>n3:\n",
    "    print(\"Largest number: \"+str(n1))\n",
    "\n",
    "elif n2 > n1 and n2>n3:\n",
    "    print(\"Largest number: \"+str(n2))\n",
    "    \n",
    "else:\n",
    "    print(\"Largest number: \"+str(n3))"
   ]
  }
 ],
 "metadata": {
  "kernelspec": {
   "display_name": "Python 3",
   "language": "python",
   "name": "python3"
  },
  "language_info": {
   "codemirror_mode": {
    "name": "ipython",
    "version": 3
   },
   "file_extension": ".py",
   "mimetype": "text/x-python",
   "name": "python",
   "nbconvert_exporter": "python",
   "pygments_lexer": "ipython3",
   "version": "3.9.6"
  }
 },
 "nbformat": 4,
 "nbformat_minor": 2
}
