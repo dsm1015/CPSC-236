{
 "cells": [
  {
   "cell_type": "markdown",
   "metadata": {},
   "source": [
    "# Chapter 8\n",
    "# How to Handle Exceptions"
   ]
  },
  {
   "cell_type": "markdown",
   "metadata": {},
   "source": [
    "Exceptions\n",
    ": errors detected during execution\n",
    "\n",
    "\n",
    "\n",
    "### Code that can cause a ValueError exception\n",
    "```python\n",
    "number = int(input(\"Enter an integer: \"))\n",
    "print(\"You entered a valid integer of \" + str(number) + \".\")\n",
    "print(\"Thanks!\")\n",
    "```\n",
    "\n",
    "### The console for a valid integer:\n",
    "```python\n",
    "Enter an integer: 5\n",
    "You entered a valid integer of 5.\n",
    "Thanks!\n",
    "```\n",
    "\n",
    "### The console for an invalid integer:\n",
    "```python\n",
    "Enter an integer: five\n",
    "Traceback (most recent call last):\n",
    "    File \"C:\\murach\\python\\book_figs\\ch07\\fig1.py\", line\n",
    "1, in <module>\n",
    "    number = int(input(\"Enter a valid integer: \"))\n",
    "ValueError: invalid literal for int() with base 10:\n",
    "'five'\n",
    "```\n"
   ]
  },
  {
   "cell_type": "markdown",
   "metadata": {},
   "source": [
    "## Try\n",
    "\n",
    "The syntax for a try statement that catches an exception:\n",
    "\n",
    "```python\n",
    "try:\n",
    "    statements\n",
    "except [ExceptionName]:\n",
    "    statements\n",
    "```\n",
    "\n",
    "The try statement works as follows.\n",
    "- First, the `try` clause (the statement(s) between the `try` and `except` keywords)\n",
    "is executed.\n",
    "- If no exception occurs, the `except` clause is skipped and execution of\n",
    "the `try` statement is finished.\n",
    "- If an exception occurs during execution of the `try` clause, the rest of the\n",
    "clause is skipped. Then, if its type matches the exception named after\n",
    "the `except` keyword, the except clause is executed, and then execution\n",
    "continues after the try/except block.\n",
    "- If an exception occurs which does not match the exception named in\n",
    "the except clause, it is passed on to outer `try` statements; if no handler is found, it is an unhandled exception and execution stops with a message as\n",
    "shown above.\n"
   ]
  },
  {
   "cell_type": "markdown",
   "metadata": {},
   "source": [
    "## How to handle a ValueError exception"
   ]
  },
  {
   "cell_type": "code",
   "execution_count": 1,
   "metadata": {},
   "outputs": [
    {
     "name": "stdout",
     "output_type": "stream",
     "text": [
      "You entered an invalid integer. Please try again.\n",
      "Thanks!\n"
     ]
    }
   ],
   "source": [
    "try:\n",
    "    number = int(input(\"Enter an integer: \"))\n",
    "    print(\"You entered a valid integer of \" + str(number) + \".\")\n",
    "except ValueError:\n",
    "    print(\"You entered an invalid integer. Please try again.\")\n",
    "    print(\"Thanks!\")"
   ]
  },
  {
   "cell_type": "markdown",
   "metadata": {},
   "source": [
    "## Total Calculator with Exceptions"
   ]
  },
  {
   "cell_type": "code",
   "execution_count": 3,
   "metadata": {},
   "outputs": [
    {
     "name": "stdout",
     "output_type": "stream",
     "text": [
      "The Total Calculator program\n",
      "\n",
      "Invalid integer. Please try again.\n",
      "Invalid integer. Please try again.\n",
      "Invalid integer. Please try again.\n",
      "\n",
      "PRICE:  24.0\n",
      "QUANTITY:  4\n",
      "TOTAL:  96.0\n"
     ]
    }
   ],
   "source": [
    "def get_price():\n",
    "    while True:\n",
    "        try:\n",
    "            price = float(input(\"Enter price: \"))\n",
    "            return price\n",
    "        except ValueError:\n",
    "            print(\"Invalid decimal number. Please try again.\")\n",
    "\n",
    "def get_quantity():\n",
    "    while True:\n",
    "        try:\n",
    "            quantity = int(input(\"Enter quantity: \"))\n",
    "            return quantity\n",
    "        except ValueError:\n",
    "            print(\"Invalid integer. Please try again.\")\n",
    "\n",
    "def main():\n",
    "    print(\"The Total Calculator program\\n\")\n",
    "    # get the price and quantity\n",
    "    price = get_price()\n",
    "    quantity = get_quantity()\n",
    "    # calculate the total\n",
    "    total = price * quantity\n",
    "    # display the results\n",
    "    print()\n",
    "    print(\"PRICE: \", price)\n",
    "    print(\"QUANTITY: \", quantity)\n",
    "    print(\"TOTAL: \", total)\n",
    "    \n",
    "if __name__ == \"__main__\":\n",
    "    main()"
   ]
  },
  {
   "cell_type": "markdown",
   "metadata": {},
   "source": [
    "## The hierarchy for five common exceptions\n",
    "\n",
    "```\n",
    "Exception\n",
    "    OSError\n",
    "        FileExistsError\n",
    "        FileNotFoundError\n",
    "    ValueError\n",
    "```"
   ]
  },
  {
   "cell_type": "markdown",
   "metadata": {},
   "source": [
    "## Try statement with multiple except blocks\n",
    "\n",
    "```python\n",
    "try:\n",
    "    statements\n",
    "except ExceptionName:\n",
    "    statements\n",
    "[except ExceptionName:\n",
    "    statements] ...\n",
    "\n",
    "```\n",
    "\n",
    "Code that handles multiple exceptions:"
   ]
  },
  {
   "cell_type": "code",
   "execution_count": 5,
   "metadata": {},
   "outputs": [
    {
     "name": "stdout",
     "output_type": "stream",
     "text": [
      "Could not find the file named test.txt\n"
     ]
    }
   ],
   "source": [
    "filename = input(\"Enter filename: \")\n",
    "movies = []\n",
    "try:\n",
    "    with open(filename) as file:\n",
    "        for line in file:\n",
    "            line = line.replace(\"\\n\", \"\")\n",
    "            movies.append(line)\n",
    "except FileNotFoundError:\n",
    "    print(\"Could not find the file named \" + filename)\n",
    "except OSError:\n",
    "    print(\"File found - error reading file\")\n",
    "except Exception:\n",
    "    print(\"An unexpected error occurred\")"
   ]
  },
  {
   "cell_type": "markdown",
   "metadata": {},
   "source": [
    "## Additional Handling\n",
    "\n",
    "The built-in `type()` function:\n",
    "`type(object)`\n",
    "\n",
    "The `exit()` function of the `sys` module:\n",
    "`sys.exit()`\n",
    "\n",
    "Complete syntax:\n",
    "\n",
    "```python\n",
    "except [ExceptionName] [as name]:\n",
    "    statements\n",
    "```\n",
    "\n",
    "Code that handles multiple exceptions:\n"
   ]
  },
  {
   "cell_type": "code",
   "execution_count": 8,
   "metadata": {},
   "outputs": [],
   "source": [
    "import sys\n",
    "filename = input(\"Enter filename: \")\n",
    "movies = []\n",
    "try:\n",
    "    with open(filename) as file:\n",
    "        for line in file:\n",
    "            line = line.replace(\"\\n\", \"\")\n",
    "            movies.append(line)\n",
    "except FileNotFoundError as e:\n",
    "    print(\"FileNotFoundError:\", e)\n",
    "    sys.exit()\n",
    "except OSError as e:\n",
    "    print(\"OSError:\", e)\n",
    "    sys.exit()\n",
    "except Exception as e:\n",
    "    print(type(e), e)\n",
    "    sys.exit()\n"
   ]
  },
  {
   "cell_type": "markdown",
   "metadata": {},
   "source": [
    "## Complete Syntax\n",
    "\n",
    "```python\n",
    "try:\n",
    "    statements\n",
    "except [ExceptionName] [as name]:\n",
    "    statements\n",
    "[except [ExceptionName] [as name]:\n",
    "    statements] ...\n",
    "[finally:\n",
    "    statements]\n",
    "```\n",
    "\n",
    "`finally` is always executed."
   ]
  }
 ],
 "metadata": {
  "kernelspec": {
   "display_name": "base",
   "language": "python",
   "name": "python3"
  },
  "language_info": {
   "codemirror_mode": {
    "name": "ipython",
    "version": 3
   },
   "file_extension": ".py",
   "mimetype": "text/x-python",
   "name": "python",
   "nbconvert_exporter": "python",
   "pygments_lexer": "ipython3",
   "version": "3.9.13"
  }
 },
 "nbformat": 4,
 "nbformat_minor": 2
}
