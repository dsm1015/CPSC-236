{
 "cells": [
  {
   "cell_type": "markdown",
   "metadata": {},
   "source": [
    "# File Input\n",
    "\n",
    "To submit this assignment in D2l, post the link to your notebook file on your GitHub account."
   ]
  },
  {
   "cell_type": "markdown",
   "metadata": {},
   "source": [
    "## 7.1 Pig Dice Rules\n",
    "Create a program that reads a list of rules from a file and displays them.\n",
    "\n",
    "### Console:\n",
    "```powershell\n",
    "Pig Dice Rules:\n",
    "*\tSee how many turns it takes you to get to 20.\n",
    "*\tTurn ends when player rolls a 1 or chooses to hold.\n",
    "*\tIf you roll a 1, you lose all points earned during the turn.\n",
    "*\tIf you hold, you save all points earned during the turn.\n",
    "```\n",
    "\n",
    "### Specifications:\n",
    "- Use the attached text file named rules.txt in the corresponding Dropbox.\n",
    "- Your program should read the text file and display it on the console.\n"
   ]
  },
  {
   "cell_type": "code",
   "execution_count": 1,
   "metadata": {},
   "outputs": [],
   "source": [
    "### CODE HERE ###"
   ]
  }
 ],
 "metadata": {
  "kernelspec": {
   "display_name": "Python 3",
   "language": "python",
   "name": "python3"
  },
  "language_info": {
   "codemirror_mode": {
    "name": "ipython",
    "version": 3
   },
   "file_extension": ".py",
   "mimetype": "text/x-python",
   "name": "python",
   "nbconvert_exporter": "python",
   "pygments_lexer": "ipython3",
   "version": "3.11.1"
  }
 },
 "nbformat": 4,
 "nbformat_minor": 2
}
