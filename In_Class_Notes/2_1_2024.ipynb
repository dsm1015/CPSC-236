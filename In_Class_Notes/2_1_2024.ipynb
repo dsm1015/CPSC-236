{
 "cells": [
  {
   "cell_type": "markdown",
   "metadata": {},
   "source": [
    "# 2/1/2024 Notes\n",
    "\n",
    "## Loops (cont)\n",
    "\n",
    "### Nested Loops\n",
    "\n",
    "Nested loop\n",
    ": loop that is contained inside another loop\n",
    "\n",
    "Total number of iterations in nested loop:\n",
    "\n",
    "`number_iterations_inner x number_iterations_outer`\n"
   ]
  },
  {
   "cell_type": "markdown",
   "metadata": {},
   "source": [
    "## In-Class 1\n",
    "Write a program that prints a multiplication table.\n",
    "\n",
    "```bash\n",
    "1*1=1 1*2=2 1*3=3 ...............\n",
    "1*10=10\n",
    "2*1=2 2*2=4 2*3=6 ...............\n",
    "2*10=20\n",
    "....................................................................\n",
    "....................................................................\n",
    "9*1=9 9*2=18 9*3=27 ............ 9*10=90\n",
    "```\n"
   ]
  },
  {
   "cell_type": "code",
   "execution_count": 5,
   "metadata": {},
   "outputs": [
    {
     "name": "stdout",
     "output_type": "stream",
     "text": [
      "1*1=1\t1*2=2\t1*3=3\t1*4=4\t1*5=5\t1*6=6\t1*7=7\t1*8=8\t1*9=9\t1*10=10\t\n",
      "2*1=2\t2*2=4\t2*3=6\t2*4=8\t2*5=10\t2*6=12\t2*7=14\t2*8=16\t2*9=18\t2*10=20\t\n",
      "3*1=3\t3*2=6\t3*3=9\t3*4=12\t3*5=15\t3*6=18\t3*7=21\t3*8=24\t3*9=27\t3*10=30\t\n",
      "4*1=4\t4*2=8\t4*3=12\t4*4=16\t4*5=20\t4*6=24\t4*7=28\t4*8=32\t4*9=36\t4*10=40\t\n",
      "5*1=5\t5*2=10\t5*3=15\t5*4=20\t5*5=25\t5*6=30\t5*7=35\t5*8=40\t5*9=45\t5*10=50\t\n",
      "6*1=6\t6*2=12\t6*3=18\t6*4=24\t6*5=30\t6*6=36\t6*7=42\t6*8=48\t6*9=54\t6*10=60\t\n",
      "7*1=7\t7*2=14\t7*3=21\t7*4=28\t7*5=35\t7*6=42\t7*7=49\t7*8=56\t7*9=63\t7*10=70\t\n",
      "8*1=8\t8*2=16\t8*3=24\t8*4=32\t8*5=40\t8*6=48\t8*7=56\t8*8=64\t8*9=72\t8*10=80\t\n",
      "9*1=9\t9*2=18\t9*3=27\t9*4=36\t9*5=45\t9*6=54\t9*7=63\t9*8=72\t9*9=81\t9*10=90\t\n"
     ]
    }
   ],
   "source": [
    "for i in range(1, 10):\n",
    "    for j in range(1, 11):\n",
    "        print(f\"{i}*{j}={i*j}\", end=\"\\t\") # the 'end' parameter is used to avoid the newline\n",
    "    print()"
   ]
  },
  {
   "cell_type": "markdown",
   "metadata": {},
   "source": [
    "### The `break` statement\n",
    "\n",
    "A `break` statement will terminate the current loop.\n",
    "\n",
    "For example, if I want to break when `i = 5`, I can write it like the example below:"
   ]
  },
  {
   "cell_type": "code",
   "execution_count": 9,
   "metadata": {},
   "outputs": [
    {
     "name": "stdout",
     "output_type": "stream",
     "text": [
      "1\n",
      "2\n",
      "3\n",
      "4\n",
      "End\n"
     ]
    }
   ],
   "source": [
    "for i in range(1,10):\n",
    "    if i == 5:\n",
    "        break\n",
    "    print(i)\n",
    "print(\"End\")"
   ]
  },
  {
   "cell_type": "code",
   "execution_count": 2,
   "metadata": {},
   "outputs": [
    {
     "name": "stdout",
     "output_type": "stream",
     "text": [
      "Enter 'exit' when you're done.\n",
      "\n",
      "4 squared is 16 \n",
      "\n",
      "2 squared is 4 \n",
      "\n",
      "Okay, bye!\n"
     ]
    }
   ],
   "source": [
    "# A break statement that exits an infinite while loop\n",
    "\n",
    "print(\"Enter 'exit' when you're done.\\n\")\n",
    "while True:\n",
    "    data = input(\"Enter an integer to square: \")\n",
    "    if data == \"exit\":\n",
    "        break\n",
    "    i = int(data)\n",
    "    print(i, \"squared is\", i * i, \"\\n\")\n",
    "print(\"Okay, bye!\")"
   ]
  },
  {
   "cell_type": "markdown",
   "metadata": {},
   "source": [
    "### The `continue` statement\n",
    "\n",
    "Python `continue` statement is used to skip the execution of the program block and returns the control to the beginning of the current loop to start the next iteration. \n",
    "\n",
    "When encountered, the loop starts next iteration without executing the remaining statements in the current iteration.\n",
    "\n",
    "For example, I can skip the iteration when `i == 5`:"
   ]
  },
  {
   "cell_type": "code",
   "execution_count": 8,
   "metadata": {},
   "outputs": [
    {
     "name": "stdout",
     "output_type": "stream",
     "text": [
      "1\n",
      "2\n",
      "3\n",
      "4\n",
      "6\n",
      "7\n",
      "8\n",
      "9\n",
      "End\n"
     ]
    }
   ],
   "source": [
    "for i in range(1,10):\n",
    "    if i == 5:\n",
    "        continue\n",
    "    print(i)\n",
    "print(\"End\")"
   ]
  },
  {
   "cell_type": "code",
   "execution_count": 4,
   "metadata": {},
   "outputs": [
    {
     "name": "stdout",
     "output_type": "stream",
     "text": [
      "Both entries must be greater than zero. Try again.\n",
      "\n",
      "Both entries must be greater than zero. Try again.\n",
      "\n",
      "Miles Per Gallon: 1.0 \n",
      "\n",
      "\n",
      "Okay, bye!\n"
     ]
    }
   ],
   "source": [
    "# A continue statement that jumps to the beginning of a while loop\n",
    "\n",
    "more = \"y\"\n",
    "while more.lower() == \"y\":\n",
    "    miles_driven = float(input(\"Enter miles driven:\\t\\t\"))\n",
    "    gallons_used = float(input(\"Enter gallons of gas used:\\t\"))\n",
    "    # validate input\n",
    "    if miles_driven <= 0 or gallons_used <= 0:\n",
    "        print(\"Both entries must be greater than zero. \" + \"Try again.\\n\")\n",
    "        continue\n",
    "    mpg = round(miles_driven / gallons_used, 2)\n",
    "    print(\"Miles Per Gallon:\", mpg, \"\\n\")\n",
    "    more = input(\"Continue? (y/n): \")\n",
    "    print()\n",
    "print(\"Okay, bye!\")"
   ]
  }
 ],
 "metadata": {
  "kernelspec": {
   "display_name": "Python 3",
   "language": "python",
   "name": "python3"
  },
  "language_info": {
   "codemirror_mode": {
    "name": "ipython",
    "version": 3
   },
   "file_extension": ".py",
   "mimetype": "text/x-python",
   "name": "python",
   "nbconvert_exporter": "python",
   "pygments_lexer": "ipython3",
   "version": "3.9.6"
  }
 },
 "nbformat": 4,
 "nbformat_minor": 2
}
