{
 "cells": [
  {
   "cell_type": "markdown",
   "metadata": {},
   "source": [
    "# 2/6/2024 Notes\n",
    "\n",
    "# Functions\n",
    "\n",
    "Function\n",
    ": group of statements within a program that perform as specific task\n",
    "\n",
    "The benefits of using functions include:\n",
    "- Simpler code\n",
    "- Code reuse\n",
    "- Better testing and debugging\n",
    "- Faster development\n",
    "- Easier facilitation of teamwork\n",
    "\n",
    "Function naming rules:\n",
    "- Cannot use key words as a function name\n",
    "- Cannot contain spaces\n",
    "- First character must be a letter or underscore\n",
    "- All other characters must be a letter, number or underscore\n",
    "- Uppercase and lowercase characters are distinct\n",
    "\n",
    "Syntax:\n",
    "```python\n",
    "def function_name(): # Function Header\n",
    "    statement        # Block\n",
    "    statement        # Block\n",
    "```\n",
    "\n",
    "When a function is called the interpreter jumps to the function and executes statements in the block.\n",
    "After the function completes, the interpreter jumps back to part of program that called the function.\n",
    "This is known as function return.\n",
    "\n",
    "## Void Functions and Value-Returning Functions\n",
    "\n",
    "A void function\n",
    ": Simply executes the statements it contains and then terminates.\n",
    "\n",
    "```python\n",
    "# Define it\n",
    "def print_welcome():\n",
    "    print(\"Welcome to the Future Value Calculator\")\n",
    "    print()\n",
    "\n",
    "# Call it\n",
    "print_welcome()\n",
    "```\n",
    "\n",
    "A value-returning function\n",
    ": Executes the statements it contains, and then it returns a value back to the statement that called it.\n",
    "\n",
    "```python\n",
    "# Define it\n",
    "def get_message():\n",
    "    return \"Welcome to the Future Value Calculator\"\n",
    "\n",
    "# Call it\n",
    "m=get_message()\n",
    "print(m)\n",
    "```"
   ]
  },
  {
   "cell_type": "code",
   "execution_count": 9,
   "metadata": {},
   "outputs": [
    {
     "name": "stdout",
     "output_type": "stream",
     "text": [
      "1\n",
      "(1, 2)\n",
      "1\n",
      "1 2\n"
     ]
    }
   ],
   "source": [
    "def returnOne():\n",
    "    return 1\n",
    "\n",
    "def returnOneAndTwo():\n",
    "    return 1, 2\n",
    "\n",
    "print(returnOne())  # returns an integer\n",
    "print(returnOneAndTwo()) # returns a tuple\n",
    "\n",
    "x = returnOne() \n",
    "print(x) # 1\n",
    "\n",
    "x , y = returnOneAndTwo() # unpacking the tuple\n",
    "print(x, y) # 1 2"
   ]
  },
  {
   "cell_type": "code",
   "execution_count": 1,
   "metadata": {},
   "outputs": [
    {
     "name": "stdout",
     "output_type": "stream",
     "text": [
      "text\n",
      "10\n"
     ]
    }
   ],
   "source": [
    "def fun():\n",
    "    s=\"text\"\n",
    "    x=10\n",
    "    return s,x\n",
    "\n",
    "ss,xx = fun()\n",
    "print(ss)\n",
    "print(xx)"
   ]
  },
  {
   "cell_type": "markdown",
   "metadata": {},
   "source": [
    "### Local Variables\n",
    "\n",
    "Local variable\n",
    ": variable that is assigned a value inside a function. Only statments inside that function can access it.\n",
    "\n",
    "Scope\n",
    ": the part of a program in which a variable may be accessed\n",
    "\n",
    "*For a local variable, it's scope is the function that it is declared in*"
   ]
  },
  {
   "cell_type": "code",
   "execution_count": null,
   "metadata": {},
   "outputs": [],
   "source": [
    "def fun():\n",
    "    x=5\n",
    "\n",
    "    # scope of this x is only within the fun function\n",
    "\n",
    "    return x\n",
    "\n",
    "def fun2():\n",
    "    x=2\n",
    "    \n",
    "    # scope of this x is only within the fun2 function\n",
    "\n",
    "    return x"
   ]
  },
  {
   "cell_type": "code",
   "execution_count": 4,
   "metadata": {},
   "outputs": [
    {
     "name": "stdout",
     "output_type": "stream",
     "text": [
      "Tax: 4.25\n"
     ]
    }
   ],
   "source": [
    "def calc_tax(amount, tax_rate):\n",
    "    tax = amount * tax_rate # tax is local variable\n",
    "    return tax # return is necessary\n",
    "def main():\n",
    "    tax = calc_tax(85.0, .05) # tax is local variable\n",
    "    print(\"Tax:\", tax) # Tax 4.25\n",
    "\n",
    "main()"
   ]
  },
  {
   "cell_type": "markdown",
   "metadata": {},
   "source": [
    "## Arguments\n",
    "\n",
    "Argument\n",
    ": piece of data that is sent into a function\n",
    "\n",
    "**Can pass more than 1 argument**\n",
    "\n",
    "```python\n",
    "def showDouble(number): # number is the argument\n",
    "    result = number*2\n",
    "    print(result)\n",
    "```\n",
    "\n",
    "Arguments are passed *by position* to corresponding parameters\n",
    "```python\n",
    "def show_sum(num1, num2): # number is the argument\n",
    "    result = num1 + num2\n",
    "    print(result)\n",
    "\n",
    "show_sum(1,2)\n",
    "```\n",
    "\n",
    "By default, values are passed by value. This means that in the below example, the value x is copied into the function and the original value is not changed."
   ]
  },
  {
   "cell_type": "code",
   "execution_count": 10,
   "metadata": {},
   "outputs": [
    {
     "name": "stdout",
     "output_type": "stream",
     "text": [
      "10\n"
     ]
    }
   ],
   "source": [
    "def fun(x):\n",
    "    x=5\n",
    "\n",
    "x=10\n",
    "fun(x) # x is passed by value\n",
    "print(x) # 10"
   ]
  },
  {
   "cell_type": "markdown",
   "metadata": {},
   "source": [
    "## Making Changes to Parameters\n",
    "\n",
    "Some data types are immutable, meaning they can not be changed. If you are sending a data type to a function that is immutable, it is like passing that variable by value.\n",
    "\n",
    "If you send a mutable data type (such as a list) to a function, it is like call by reference because the variable can change inside and outside the function."
   ]
  },
  {
   "cell_type": "code",
   "execution_count": 12,
   "metadata": {},
   "outputs": [
    {
     "name": "stdout",
     "output_type": "stream",
     "text": [
      "Inside Function: Raed Seetan\n",
      "Outside Function: Raed\n"
     ]
    }
   ],
   "source": [
    "def test(string):\n",
    "    string = \"Raed Seetan\"\n",
    "    print(\"Inside Function:\", string)\n",
    "\n",
    "string = \"Raed\"\n",
    "test(string)\n",
    "print(\"Outside Function:\", string)"
   ]
  },
  {
   "cell_type": "code",
   "execution_count": 13,
   "metadata": {},
   "outputs": [
    {
     "name": "stdout",
     "output_type": "stream",
     "text": [
      "Inside Function x: 5\n",
      "Outside Function y: 10\n"
     ]
    }
   ],
   "source": [
    "def test(x):\n",
    "    x = 5\n",
    "    print(\"Inside Function x:\", x)\n",
    "y = 10\n",
    "test(y)\n",
    "print(\"Outside Function y:\", y)"
   ]
  },
  {
   "cell_type": "code",
   "execution_count": 14,
   "metadata": {},
   "outputs": [
    {
     "name": "stdout",
     "output_type": "stream",
     "text": [
      "Inside Function [10, 20, 30, 40, 50]\n",
      "Outside Function: [10, 20, 30, 40, 50]\n"
     ]
    }
   ],
   "source": [
    "# In this example, mylist is passed by reference. \n",
    "# Therefore, any changes made to the list inside the function will affect the original list.\n",
    "def add_more(list):\n",
    "    list.append(50)\n",
    "    print(\"Inside Function\", list)\n",
    "\n",
    "mylist = [10,20,30,40]\n",
    "add_more(mylist)\n",
    "print(\"Outside Function:\", mylist)"
   ]
  },
  {
   "cell_type": "markdown",
   "metadata": {},
   "source": [
    "## In-Class 1\n",
    "Write a function to calculate the factorial value of\n",
    "any integer as an argument. Call this function with\n",
    "user input values to test it"
   ]
  },
  {
   "cell_type": "code",
   "execution_count": 19,
   "metadata": {},
   "outputs": [
    {
     "name": "stdout",
     "output_type": "stream",
     "text": [
      "Please enter a positive number.\n",
      "Factorial of 4 is 24\n"
     ]
    }
   ],
   "source": [
    "def factorial(n):\n",
    "    fact = 1\n",
    "    for i in range(1, n+1):\n",
    "        fact *= i\n",
    "    return fact\n",
    "\n",
    "# input validation\n",
    "while True:\n",
    "    num = int(input(\"Enter a number: \"))\n",
    "    if num < 0:\n",
    "        print(\"Please enter a positive number.\")\n",
    "    else:\n",
    "        break\n",
    "\n",
    "print(\"Factorial of\", num, \"is\", factorial(num))"
   ]
  },
  {
   "cell_type": "code",
   "execution_count": 33,
   "metadata": {},
   "outputs": [
    {
     "name": "stdout",
     "output_type": "stream",
     "text": [
      "Factorial of 4 is 24\n"
     ]
    }
   ],
   "source": [
    "# Recursive version of factorial\n",
    "def factorial(n):\n",
    "    if n == 0:\n",
    "        return 1\n",
    "    else:\n",
    "        return n * factorial(n-1) # recursive call\n",
    "    \n",
    "while True:\n",
    "    num = int(input(\"Enter a number: \"))\n",
    "    if num < 0:\n",
    "        print(\"Please enter a positive number.\")\n",
    "    else:\n",
    "        break\n",
    "\n",
    "print(\"Factorial of\", num, \"is\", factorial(num))"
   ]
  },
  {
   "cell_type": "markdown",
   "metadata": {},
   "source": [
    "## In-Class 2\n",
    "Raising a number to a power p is the same as\n",
    "multiplying n by itself p times. Write a function\n",
    "called power that takes two arguments, a double\n",
    "value for n and an int value for p, and return the\n",
    "result as double value. Call this function with user\n",
    "input values to test it."
   ]
  },
  {
   "cell_type": "code",
   "execution_count": 32,
   "metadata": {},
   "outputs": [
    {
     "name": "stdout",
     "output_type": "stream",
     "text": [
      "Result: 27.0\n"
     ]
    }
   ],
   "source": [
    "def power(n, p):\n",
    "    x = n\n",
    "    for i in range(1, p):\n",
    "        n *= x\n",
    "    return n\n",
    "\n",
    "while True:\n",
    "    n = float(input(\"Enter a number: \"))\n",
    "    if n < 0:\n",
    "        print(\"Please enter a positive number.\")\n",
    "    else:\n",
    "        break\n",
    "while True:\n",
    "    p = int(input(\"Enter the power: \"))\n",
    "    if p < 0:\n",
    "        print(\"Please enter a positive power.\")\n",
    "    else:\n",
    "        break\n",
    "\n",
    "result = power(n, p)\n",
    "print(\"Result:\", result)"
   ]
  }
 ],
 "metadata": {
  "kernelspec": {
   "display_name": "Python 3",
   "language": "python",
   "name": "python3"
  },
  "language_info": {
   "codemirror_mode": {
    "name": "ipython",
    "version": 3
   },
   "file_extension": ".py",
   "mimetype": "text/x-python",
   "name": "python",
   "nbconvert_exporter": "python",
   "pygments_lexer": "ipython3",
   "version": "3.9.6"
  }
 },
 "nbformat": 4,
 "nbformat_minor": 2
}
