{
 "cells": [
  {
   "cell_type": "code",
   "execution_count": null,
   "metadata": {},
   "outputs": [],
   "source": [
    "# in class 1\n",
    "seconds = int(input(\"seconds:\"))\n",
    "hours = seconds//3600\n",
    "minutes = (seconds - 3600*hours)//60\n",
    "rSeconds = seconds - hours*3600 - minutes*60\n",
    "print(\"Hours: \", hours)\n",
    "print(\"Minutes:\", minutes)\n",
    "print(\"Seconds:\", rSeconds)"
   ]
  },
  {
   "cell_type": "code",
   "execution_count": null,
   "metadata": {},
   "outputs": [],
   "source": [
    "# in class 2\n",
    "far = float(input(\"Far: \"))\n",
    "cel = round((5/9)*(far-32),2)\n",
    "print(cel)"
   ]
  }
 ],
 "metadata": {
  "language_info": {
   "name": "python"
  }
 },
 "nbformat": 4,
 "nbformat_minor": 2
}
