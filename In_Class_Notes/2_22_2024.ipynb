{
 "cells": [
  {
   "cell_type": "markdown",
   "metadata": {},
   "source": [
    "# 2/22/2024 Notes\n",
    "\n",
    "# Lists and Tuples (cont.)"
   ]
  },
  {
   "cell_type": "markdown",
   "metadata": {},
   "source": [
    "## Copying Lists\n",
    "\n",
    "To make a copy of a list you must copy\n",
    "each element of the list\n",
    "\n",
    "Two methods to do this:\n",
    "- Creating a new empty list and using a for loop to\n",
    "add a copy of each element from the original list to\n",
    "the new list\n",
    "- Creating a new empty list and concatenating the\n",
    "old list to the new empty list\n",
    "\n"
   ]
  },
  {
   "cell_type": "code",
   "execution_count": 2,
   "metadata": {},
   "outputs": [
    {
     "name": "stdout",
     "output_type": "stream",
     "text": [
      "[1, 2]\n"
     ]
    }
   ],
   "source": [
    "s1 = [ ]\n",
    "s2 = [1,2]\n",
    "s1 = s1+s2\n",
    "print(s1)\n"
   ]
  },
  {
   "cell_type": "markdown",
   "metadata": {},
   "source": [
    "## Lists and Functions\n",
    "\n",
    "List can be passed as an argument to a function"
   ]
  },
  {
   "cell_type": "code",
   "execution_count": 5,
   "metadata": {},
   "outputs": [
    {
     "name": "stdout",
     "output_type": "stream",
     "text": [
      "[100, 200, 300]\n",
      "[1, 200, 300]\n",
      "[1, 200, 300]\n"
     ]
    }
   ],
   "source": [
    "mylist = [100,200,300]\n",
    "\n",
    "def changelist_1 (a):\n",
    "    a[0] = 1\n",
    "\n",
    "def changelist_2 (a):\n",
    "    a[0] = 1\n",
    "\n",
    "print(mylist)\n",
    "changelist_1(mylist) #passing the list\n",
    "print(mylist) #the original list is changed\n",
    "\n",
    "changelist_2(mylist[:]) #passing a copy of the list\n",
    "print(mylist) #the original list is not changed"
   ]
  },
  {
   "cell_type": "markdown",
   "metadata": {},
   "source": [
    "## A List of Lists\n",
    "\n",
    "You can create a list of lists. It can be treated as a dimensional structure with rows and columns. \n",
    "\n",
    "```python\n",
    "# 3 rows and 4 columns\n",
    "students = [[\"Joel\", 85, 95, 70],\n",
    "[\"Anne\", 95, 100, 100],\n",
    "[\"Mike\", 77, 70, 80, 85]]\n",
    "```"
   ]
  },
  {
   "cell_type": "code",
   "execution_count": 11,
   "metadata": {},
   "outputs": [
    {
     "name": "stdout",
     "output_type": "stream",
     "text": [
      "[['The Holy Grail', 1975, 9.99], ['Life of Brian', 1979, 12.3], ['The Meaning of Life', 1983, 7.5]]\n",
      "Row 1, Column 1:  The Holy Grail\n",
      "Row 2, Column 1:  Life of Brian\n",
      "Row 3, Column 1:  The Meaning of Life\n",
      "Row 1, Column 2:  1975\n",
      "Row 1, Column 3:  9.99\n"
     ]
    }
   ],
   "source": [
    "movies = [[\"The Holy Grail\", 1975, 9.99], [\"Life of Brian\", 1979, 12.30]]\n",
    "\n",
    "movie = [] # Create empty movie\n",
    "movie.append(\"The Meaning of Life\") # Add name to movie\n",
    "movie.append(1983) # Add year to movie\n",
    "movie.append(7.5) # Add price to movie\n",
    "movies.append(movie) # Add movie to movies\n",
    "print(movies)\n",
    "\n",
    "print(\"Row 1, Column 1: \", movies[0][0] ) # \"The Holy Grail\"\n",
    "print(\"Row 2, Column 1: \", movies[1][0] ) # \"Life of Brian\"\n",
    "print(\"Row 3, Column 1: \", movies[2][0] ) # \"The Meaning of Life\"\n",
    "\n",
    "print(\"Row 1, Column 2: \", movies[0][1] ) # 1975\n",
    "\n",
    "print(\"Row 1, Column 3: \", movies[0][2] ) # 9.99"
   ]
  },
  {
   "cell_type": "markdown",
   "metadata": {},
   "source": [
    "## Movie List 2D program"
   ]
  },
  {
   "cell_type": "code",
   "execution_count": 13,
   "metadata": {},
   "outputs": [
    {
     "name": "stdout",
     "output_type": "stream",
     "text": [
      "COMMAND MENU\n",
      "list - List all movies\n",
      "add - Add a movie\n",
      "del - Delete a movie\n",
      "exit - Exit program\n",
      "\n",
      "1. Monty Python and the Holy Grail (1975)\n",
      "2. On the Waterfront (1954)\n",
      "3. Cat on a Hot Tin Roof (1958)\n",
      "\n",
      "Oppenheimer was added.\n",
      "\n",
      "Monty Python and the Holy Grail was deleted.\n",
      "\n",
      "1. On the Waterfront (1954)\n",
      "2. Cat on a Hot Tin Roof (1958)\n",
      "3. Oppenheimer (2023)\n",
      "\n",
      "Bye!\n"
     ]
    }
   ],
   "source": [
    "def list(movie_list):\n",
    "    if len(movie_list) == 0:\n",
    "        print(\"There are no movies in the list.\\n\")\n",
    "        return\n",
    "    else:\n",
    "        i = 1\n",
    "        for row in movie_list:\n",
    "            print(str(i) + \". \" + row[0] + \" (\" + str(row[1]) + \")\")\n",
    "            i += 1\n",
    "        print()\n",
    "\n",
    "def add(movie_list):\n",
    "    name = input(\"Name: \")\n",
    "    year = input(\"Year: \")\n",
    "    movie = []\n",
    "    movie.append(name)\n",
    "    movie.append(year)\n",
    "    movie_list.append(movie)\n",
    "    print(movie[0] + \" was added.\\n\")\n",
    "\n",
    "def delete(movie_list):\n",
    "    number = int(input(\"Number: \"))\n",
    "    if number < 1 or number > len(movie_list):\n",
    "        print(\"Invalid movie number.\\n\")\n",
    "    else:\n",
    "        movie = movie_list.pop(number-1)\n",
    "        print(movie[0] + \" was deleted.\\n\")\n",
    "\n",
    "def display_menu():\n",
    "    print(\"COMMAND MENU\")\n",
    "    print(\"list - List all movies\")\n",
    "    print(\"add - Add a movie\")\n",
    "    print(\"del - Delete a movie\")\n",
    "    print(\"exit - Exit program\")\n",
    "    print()\n",
    "\n",
    "def main():\n",
    "    movie_list = [[\"Monty Python and the Holy Grail\", 1975],\n",
    "    [\"On the Waterfront\", 1954],\n",
    "    [\"Cat on a Hot Tin Roof\", 1958]]\n",
    "    display_menu()\n",
    "    while True:\n",
    "        command = input(\"Command: \")\n",
    "        if command == \"list\":\n",
    "            list(movie_list)\n",
    "        elif command == \"add\":\n",
    "            add(movie_list)\n",
    "        elif command == \"del\":\n",
    "            delete(movie_list)\n",
    "        elif command == \"exit\":\n",
    "            break\n",
    "        else:\n",
    "            print(\"Not a valid command. Please try again.\\n\")\n",
    "    print(\"Bye!\")\n",
    "    \n",
    "if __name__ == \"__main__\":\n",
    "    main()\n"
   ]
  },
  {
   "cell_type": "markdown",
   "metadata": {},
   "source": [
    "## Tuples\n",
    "\n",
    "- A Tuple is a collection of Python objects\n",
    "separated by commas.\n",
    "- A tuple is similar to a list in terms of\n",
    "indexing, nested objects and repetition but\n",
    "a tuple is *immutable* unlike lists which are\n",
    "mutable.\n",
    "\n",
    "Sytnax:\n",
    "```python\n",
    "mytyple = (item1, item2, ...)\n",
    "\n",
    "# a tuple of 5 floating-point numbers\n",
    "stats = (48.0, 30.5, 20.2, 100.0, 48.0)\n",
    "# a tuple of 6 strings\n",
    "herbs = (\"lavender\", \"pokeroot\", \"chamomile\",\n",
    "\"valerian\", \"nettles\", \"oatstraw\")\n",
    "# a tuple that stores the data for a movie\n",
    "movie = (\"Monty Python and the Holy Grail\", 1975, 9.99)\n",
    "```\n"
   ]
  },
  {
   "cell_type": "code",
   "execution_count": 15,
   "metadata": {},
   "outputs": [
    {
     "data": {
      "text/plain": [
       "('pokeroot', 'chamomile', 'valerian')"
      ]
     },
     "execution_count": 15,
     "metadata": {},
     "output_type": "execute_result"
    }
   ],
   "source": [
    "# a tuple of 5 floating-point numbers\n",
    "stats = (48.0, 30.5, 20.2, 100.0, 48.0)\n",
    "# a tuple of 6 strings\n",
    "herbs = (\"lavender\", \"pokeroot\", \"chamomile\",\n",
    "\"valerian\", \"nettles\", \"oatstraw\")\n",
    "# a tuple that stores the data for a movie\n",
    "movie = (\"Monty Python and the Holy Grail\", 1975, 9.99)\n",
    "\n",
    "# Code that access the elements of the tuple\n",
    "herbs[0] # lavender\n",
    "herbs[-1] # oatstraw\n",
    "herbs[1:4] # ('pokeroot', 'chamomile', 'valerian')\n",
    "\n",
    "# herbs[1] = \"red clover\"\n",
    "# TypeError: 'tuple' object does not support\n",
    "# item assignment"
   ]
  },
  {
   "cell_type": "code",
   "execution_count": 17,
   "metadata": {},
   "outputs": [
    {
     "name": "stdout",
     "output_type": "stream",
     "text": [
      "1 2 3\n"
     ]
    }
   ],
   "source": [
    "# Code that unpacks the elements of a tuple\n",
    "tuple_values = (1, 2, 3)\n",
    "a, b, c = tuple_values # a = 1, b = 2, c = 3\n",
    "\n",
    "print(a, b, c)"
   ]
  },
  {
   "cell_type": "code",
   "execution_count": 19,
   "metadata": {},
   "outputs": [
    {
     "name": "stdout",
     "output_type": "stream",
     "text": [
      "1 2 3\n"
     ]
    }
   ],
   "source": [
    "# Code that returns a tuple from a function\n",
    "\n",
    "def get_location():\n",
    "    # code that computes values for x, y, and z\n",
    "    x = 1\n",
    "    y = 2\n",
    "    z = 3\n",
    "    return x, y, z\n",
    "\n",
    "x, y, z = get_location()\n",
    "\n",
    "print(x, y, z)"
   ]
  },
  {
   "cell_type": "code",
   "execution_count": 20,
   "metadata": {},
   "outputs": [
    {
     "name": "stdout",
     "output_type": "stream",
     "text": [
      "TUPLE DATA: (0, 5, 10, 15, 20, 25, 30, 35, 40, 45, 50)\n",
      "Average = 25 Median = 25 Min = 0 Max = 50 Dups = []\n",
      "\n",
      "RANDOM DATA: [11, 18, 20, 23, 27, 28, 28, 28, 34, 43, 48]\n",
      "Average = 28 Median = 28 Min = 11 Max = 48 Dups = [28]\n"
     ]
    }
   ],
   "source": [
    "import random\n",
    "\n",
    "def crunch_numbers(data):\n",
    "    total = 0\n",
    "    for number in data:\n",
    "        total += number\n",
    "\n",
    "    average = round(total / len(data))\n",
    "    median_index = len(data) // 2\n",
    "    median = data[median_index]\n",
    "    minimum = min(data)\n",
    "    maximum = max(data)\n",
    "    dups = get_duplicates(data)\n",
    "\n",
    "    print(\"Average =\", average,\n",
    "        \"Median =\", median,\n",
    "        \"Min =\", minimum,\n",
    "        \"Max =\", maximum,\n",
    "        \"Dups =\", dups)\n",
    "def get_duplicates(data):\n",
    "    dups = []\n",
    "    for i in range(51):\n",
    "        count = data.count(i)\n",
    "        if count >= 2:\n",
    "            dups.append(i)\n",
    "    return dups\n",
    "\n",
    "def main():\n",
    "    fixed_tuple = (0,5,10,15,20,25,30,35,40,45,50)\n",
    "    random_list = [0] * 11\n",
    "    for i in range(len(random_list)):\n",
    "        random_list[i] = random.randint(0, 50)\n",
    "    random_list.sort()\n",
    "    \n",
    "    print(\"TUPLE DATA:\", fixed_tuple)\n",
    "    crunch_numbers(fixed_tuple)\n",
    "    print()\n",
    "    print(\"RANDOM DATA:\", random_list)\n",
    "    crunch_numbers(random_list)\n",
    "\n",
    "# if started as the main module, call the main() function\n",
    "if __name__ == \"__main__\":\n",
    "    main()"
   ]
  }
 ],
 "metadata": {
  "kernelspec": {
   "display_name": "base",
   "language": "python",
   "name": "python3"
  },
  "language_info": {
   "codemirror_mode": {
    "name": "ipython",
    "version": 3
   },
   "file_extension": ".py",
   "mimetype": "text/x-python",
   "name": "python",
   "nbconvert_exporter": "python",
   "pygments_lexer": "ipython3",
   "version": "3.9.13"
  }
 },
 "nbformat": 4,
 "nbformat_minor": 2
}
