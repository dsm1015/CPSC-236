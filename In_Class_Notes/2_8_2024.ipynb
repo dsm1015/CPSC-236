{
 "cells": [
  {
   "cell_type": "markdown",
   "metadata": {},
   "source": [
    "# 2/8/2024 Notes\n",
    "\n",
    "## Functions (cont.)\n",
    "\n",
    "### Keyword arguments\n",
    "\n",
    "Keyword argument\n",
    ": argument that specifies which parameter the value should be passed to\n",
    "\n",
    "`function_name(parameter=value)`\n",
    "\n",
    "```python\n",
    "def print_book_description(title, author, publisher, year, version,\n",
    "num_chapters, num_pages):\n",
    "    # function code\n",
    "\n",
    "# notice how you can change the order of parameters when calling with keyword arguments.\n",
    "print_book_description(title='The Lord of the Rings',\n",
    "publisher='George Allen & Unwin', year=1954, author='J. R. R.Tolkien', \n",
    "version=1.0, num_pages=456, num_chapters=22)\n",
    "```\n",
    "\n",
    "You can have just some of the arguments be keywords:\n",
    "```python\n",
    "def split_check(amount, num_people, tax_rate, tip_rate):\n",
    "\n",
    "split_check(125.00, tip_rate=0.15, num_people=2, tax_rate=0.095)\n",
    "```"
   ]
  },
  {
   "cell_type": "markdown",
   "metadata": {},
   "source": [
    "## In-Class 1\n",
    "Write one function which accept two integers\n",
    "as an argument and return:\n",
    "\n",
    "1) the sum of integers between them and \n",
    "2) the product of integers between them. \n",
    "\n",
    "Call this function with\n",
    "user input values to test it. (use keyword\n",
    "arguments to allow arguments to map to\n",
    "parameters by name, instead of implicitly by\n",
    "position in the argument list)"
   ]
  },
  {
   "cell_type": "code",
   "execution_count": 6,
   "metadata": {},
   "outputs": [
    {
     "name": "stdout",
     "output_type": "stream",
     "text": [
      "The sum of the numbers between 5 and 10 is 45\n",
      "The product of the numbers between 5 and 10 is 151200\n"
     ]
    }
   ],
   "source": [
    "\n",
    "def function(x, y):\n",
    "    sum=0\n",
    "    product=1\n",
    "\n",
    "    for i in range(x, y+1):\n",
    "        sum+=i\n",
    "        product*=i\n",
    "    \n",
    "    return sum, product\n",
    "\n",
    "num1 = int(input(\"Enter the first number: \"))\n",
    "num2 = int(input(\"Enter the second number: \"))\n",
    "sum, product = function(num1, num2)\n",
    "print(f\"The sum of the numbers between {num1} and {num2} is {sum}\")\n",
    "print(f\"The product of the numbers between {num1} and {num2} is {product}\")"
   ]
  },
  {
   "cell_type": "markdown",
   "metadata": {},
   "source": [
    "## Default parameter Values\n",
    "\n",
    "Sometimes a function may have a parameter that is almost always called with the sameargument. \n",
    "\n",
    "For example:\n",
    "```python\n",
    "def print_date(day, month, year, style=0):\n",
    "print_date(30, 7, 2012, 0)\n",
    "print_date(30, 7, 2012, 1)\n",
    "print_date(30, 7, 2012)\n",
    "```\n"
   ]
  },
  {
   "cell_type": "code",
   "execution_count": 7,
   "metadata": {},
   "outputs": [
    {
     "name": "stdout",
     "output_type": "stream",
     "text": [
      "63144.01934730702\n",
      "18947.106352664527\n"
     ]
    }
   ],
   "source": [
    "# A function with a default value\n",
    "def calculate_future_value(monthly_investment, yearly_interest, years=20):\n",
    "    # convert yearly values to monthly values\n",
    "    monthly_interest_rate = yearly_interest / 12 / 100\n",
    "    months = years * 12\n",
    "\n",
    "    # calculate future value\n",
    "    future_value = 0.0\n",
    "    for i in range(0, months):\n",
    "        future_value += monthly_investment\n",
    "        monthly_interest = future_value * monthly_interest_rate\n",
    "        future_value += monthly_interest\n",
    "\n",
    "    return future_value\n",
    "\n",
    "#How to call the function and use its default value\n",
    "future_value = calculate_future_value(100, 8.5)\n",
    "print(future_value)\n",
    "\n",
    "#How to call the function and override its default value\n",
    "future_value = calculate_future_value(100, 8.5, 10)\n",
    "print(future_value)"
   ]
  },
  {
   "cell_type": "markdown",
   "metadata": {},
   "source": [
    "## The Arbitrary Arguement Lists\n",
    "\n",
    "Sometimes a programmer doesn't know how many arguments a\n",
    "function requires. A function definition can include a *args\n",
    "parameter that collects optional positional parameters into an\n",
    "arbitrary argument list tuple.\n",
    "\n",
    "Adding a final parameter of `**kwargs` creates\n",
    "a dictionary containing the keyword arguments\n",
    "not assigned to formal parameters.\n"
   ]
  },
  {
   "cell_type": "code",
   "execution_count": 14,
   "metadata": {},
   "outputs": [
    {
     "name": "stdout",
     "output_type": "stream",
     "text": [
      "turkey on wheat with: lettuce tomato mayo \n",
      "ham on white with: cheese \n"
     ]
    }
   ],
   "source": [
    "def sandwhich(bread, meat, *agrs):\n",
    "    print('%s on %s' % (meat, bread), end=' ')\n",
    "    if len(agrs) > 0:\n",
    "        print('with:', end=' ')\n",
    "    for extra in agrs:\n",
    "        print(extra, end=' ')\n",
    "    print(\"\")\n",
    "\n",
    "sandwhich('wheat', 'turkey', 'lettuce', 'tomato', 'mayo')\n",
    "sandwhich('white', 'ham', 'cheese')"
   ]
  },
  {
   "cell_type": "code",
   "execution_count": 9,
   "metadata": {},
   "outputs": [
    {
     "name": "stdout",
     "output_type": "stream",
     "text": [
      "turkey on wheat\n",
      "    cheese: cheddar\n",
      "    vegetables: lettuce and tomato\n",
      "    condiments: mayo\n",
      "\n",
      "ham on white\n",
      "    cheese: swiss\n",
      "    condiments: mustard\n",
      "\n"
     ]
    }
   ],
   "source": [
    "def sandwhich(bread, meat, **kwargs):\n",
    "    print('%s on %s' % (meat, bread))\n",
    "    for category, extra in kwargs.items():\n",
    "        print('    %s: %s' % (category, extra))\n",
    "    print()\n",
    "\n",
    "sandwhich('wheat', 'turkey', cheese='cheddar', vegetables='lettuce and tomato', condiments='mayo')\n",
    "sandwhich('white', 'ham', cheese='swiss', condiments='mustard')"
   ]
  },
  {
   "cell_type": "markdown",
   "metadata": {},
   "source": [
    "## In-Class 2\n",
    "\n",
    "create a function called `sum` that takes x, y, and *z, where *z is any amount of integers that will be added to the sum.\n",
    "\n",
    "- if the functions is called with 2 numbers, it return a sum of those numbers.\n",
    "- The function can also be called with more than 2 number"
   ]
  },
  {
   "cell_type": "code",
   "execution_count": 16,
   "metadata": {},
   "outputs": [
    {
     "name": "stdout",
     "output_type": "stream",
     "text": [
      "3\n",
      "6\n",
      "15\n"
     ]
    }
   ],
   "source": [
    "def sum(x, y, *args):\n",
    "    result = x + y\n",
    "    for arg in args:\n",
    "        result += arg\n",
    "    return result\n",
    "\n",
    "print(sum(1, 2))\n",
    "print(sum(1, 2, 3))\n",
    "print(sum(1, 2, 3, 4, 5))"
   ]
  }
 ],
 "metadata": {
  "kernelspec": {
   "display_name": "base",
   "language": "python",
   "name": "python3"
  },
  "language_info": {
   "codemirror_mode": {
    "name": "ipython",
    "version": 3
   },
   "file_extension": ".py",
   "mimetype": "text/x-python",
   "name": "python",
   "nbconvert_exporter": "python",
   "pygments_lexer": "ipython3",
   "version": "3.9.13"
  }
 },
 "nbformat": 4,
 "nbformat_minor": 2
}
