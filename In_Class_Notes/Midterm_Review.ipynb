{
 "cells": [
  {
   "cell_type": "markdown",
   "metadata": {},
   "source": [
    "# CPSC 236 Midterm Review Problems"
   ]
  },
  {
   "cell_type": "markdown",
   "metadata": {},
   "source": [
    "## Review Problem 1\n",
    "\n",
    "Create an ATM machine that manages a users balance.\n",
    "\n",
    "### Console\n",
    "```powershell\n",
    "Simple ATM System\n",
    "\n",
    "Choose an option:\n",
    "1. Check Balance\n",
    "2. Withdraw Money\n",
    "3. Exit\n",
    "\n",
    "Enter choice: 1\n",
    "Your current balance is $1000\n",
    "\n",
    "Choose an option:\n",
    "1. Check Balance\n",
    "2. Withdraw Money\n",
    "3. Exit\n",
    "\n",
    "Enter choice: 2\n",
    "Enter amount to withdraw: 150\n",
    "Transaction successful. Your new balance is $850.\n",
    "\n",
    "Choose an option:\n",
    "1. Check Balance\n",
    "2. Withdraw Money\n",
    "3. Exit\n",
    "\n",
    "Enter choice: 3\n",
    "Goodbye!\n",
    "```\n",
    "\n",
    "### Specifications\n",
    "- The user should be able to check their balance and withdraw money.\n",
    "- The user should have an initial balance of $1000\n",
    "- Use a loop to allow the user to continue performing operations until they exit\n",
    "- Validate user inputs and use functions to organize the code"
   ]
  },
  {
   "cell_type": "code",
   "execution_count": null,
   "metadata": {},
   "outputs": [],
   "source": [
    "### CODE HERE ###"
   ]
  },
  {
   "cell_type": "markdown",
   "metadata": {},
   "source": [
    "## Review Problem 2\n",
    "\n",
    "Create a module named `currency_converter.py` define a fuction to convert the currency from USD to EUR.\n",
    "\n",
    "### Console\n",
    "```powershell\n",
    "Currency Converter\n",
    "\n",
    "Enter an amount in USD: 123.43\n",
    "$123.43 in EUR: 113.56\n",
    "\n",
    "Continue (y/n)? y\n",
    "\n",
    "Enter an amount in USD: 22\n",
    "$123.43 in EUR: 20.24\n",
    "\n",
    "Continue (y/n)? n\n",
    "\n",
    "Goodbye!\n",
    "```\n",
    "\n",
    "### Specifications\n",
    "- The program should import the module `currency_converter`\n",
    "- You can find the USD to EUR conversion rate online or use:\n",
    "`1 USD = 0.92 EUR`\n",
    "- Make sure to store the conversion rate in constant\n",
    "- Ensure the user inputs a valid amount"
   ]
  },
  {
   "cell_type": "code",
   "execution_count": 4,
   "metadata": {},
   "outputs": [
    {
     "name": "stdout",
     "output_type": "stream",
     "text": [
      "20.24\n"
     ]
    }
   ],
   "source": [
    "### CODE HERE ###"
   ]
  },
  {
   "cell_type": "markdown",
   "metadata": {},
   "source": [
    "## Review Problem 3\n",
    "\n",
    "Create a simple Python program that allows users to manage a list of their favorite foods.\n",
    "\n",
    "### Console\n",
    "```powershell\n",
    "Favorite Foods Tracker\n",
    "\n",
    "Choose an option:\n",
    "1. Show Favorite Foods\n",
    "2. Add a Favorite Food\n",
    "3. Remove a Favorite Food\n",
    "4. Exit\n",
    "\n",
    "Enter choice: 1\n",
    "Your favorite foods are: []\n",
    "\n",
    "Choose an option:\n",
    "1. Show Favorite Foods\n",
    "2. Add a Favorite Food\n",
    "3. Remove a Favorite Food\n",
    "4. Exit\n",
    "\n",
    "Enter choice: 2\n",
    "Enter a food to add: Pizza\n",
    "Pizza added to your favorite foods.\n",
    "\n",
    "Choose an option:\n",
    "1. Show Favorite Foods\n",
    "2. Add a Favorite Food\n",
    "3. Remove a Favorite Food\n",
    "4. Exit\n",
    "\n",
    "Enter choice: 1\n",
    "Your favorite foods are: [Pizza]\n",
    "\n",
    "Choose an option:\n",
    "1. Show Favorite Foods\n",
    "2. Add a Favorite Food\n",
    "3. Remove a Favorite Food\n",
    "4. Exit\n",
    "\n",
    "Enter choice: 3\n",
    "Enter a food to remove: Pizza\n",
    "Pizza removed from your favorite foods.\n",
    "\n",
    "Choose an option:\n",
    "1. Show Favorite Foods\n",
    "2. Add a Favorite Food\n",
    "3. Remove a Favorite Food\n",
    "4. Exit\n",
    "\n",
    "Enter choice: 4\n",
    "Goodbye!\n",
    "```\n",
    "\n",
    "### Specifications\n",
    "- The user should be able to view their list of favorite foods, add a new food to the list and remove a food from the list.\n",
    "- Start with an empty list of favorite foods.\n",
    "- Use a loop to allow the user to continue performing operations until they choose to exit.\n",
    "- Validate user inputs where necessary (e.g., check that a food to be removed is actually in the list)."
   ]
  },
  {
   "cell_type": "code",
   "execution_count": null,
   "metadata": {},
   "outputs": [],
   "source": [
    "### CODE HERE ###"
   ]
  }
 ],
 "metadata": {
  "kernelspec": {
   "display_name": "handson",
   "language": "python",
   "name": "python3"
  },
  "language_info": {
   "codemirror_mode": {
    "name": "ipython",
    "version": 3
   },
   "file_extension": ".py",
   "mimetype": "text/x-python",
   "name": "python",
   "nbconvert_exporter": "python",
   "pygments_lexer": "ipython3",
   "version": "3.11.7"
  }
 },
 "nbformat": 4,
 "nbformat_minor": 2
}
