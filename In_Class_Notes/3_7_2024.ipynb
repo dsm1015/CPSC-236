{
 "cells": [
  {
   "cell_type": "markdown",
   "metadata": {},
   "source": [
    "# 3/7/2024 Notes\n",
    "\n",
    "# File input\n",
    "\n",
    "3 main steps:\n",
    "1. Open the file\n",
    "2. Process the file\n",
    "3. Close the file\n",
    "\n",
    "\n",
    "## The `open()` Function\n",
    "\n",
    "```python\n",
    "open(file, mode)\n",
    "```\n",
    "\n",
    "Modes:\n",
    "| Character | Mode |\n",
    "|-----------------|-------|\n",
    "| r | Read |\n",
    "| w | Write |\n",
    "| a | Append |\n",
    "| b | Binary |\n",
    "\n",
    "- If `open` function receives a filename that does not\n",
    "contain a path, assumes that file is in same directory\n",
    "as program\n",
    "- If program is running and file is created, it is created\n",
    "in the same directory as the program\n",
    "\n",
    "```python\n",
    "f=open(r'E:\\SRU\\test.txt','w’) # prefix with r for raw string\n",
    "f=open('E:\\\\SRU\\\\test.txt','w')\n",
    "```"
   ]
  },
  {
   "cell_type": "markdown",
   "metadata": {},
   "source": [
    "## Reading data from a file\n",
    "\n",
    "Read method\n",
    ": file object method that reads entire file contents into memory.\n",
    "- Only works if file has been opened for reading\n",
    "- Contents returned as a string\n",
    "\n",
    "Read position\n",
    ": marks the location of the next item to be read from a file\n",
    "\n",
    "Read whole file as 1 string\n",
    "```python\n",
    "f = open(\"demofile.txt\", \"r\")\n",
    "print(f.read())\n",
    "```\n",
    "\n",
    "Read first 5 characters\n",
    "```python\n",
    "f = open(\"demofile.txt\", \"r\")\n",
    "print(f.read(5))\n",
    "```\n",
    "\n",
    "Three read methods of a file object:\n",
    "- `read()`\n",
    "- `readlines()`\n",
    "- `readline()`\n"
   ]
  },
  {
   "cell_type": "code",
   "execution_count": 5,
   "metadata": {},
   "outputs": [
    {
     "name": "stdout",
     "output_type": "stream",
     "text": [
      "1\n",
      "2\n",
      "3\n",
      "4\n",
      "5\n",
      "\n"
     ]
    }
   ],
   "source": [
    "f = open(\"example_files/numbers.txt\", \"r\")\n",
    "text = f.read()\n",
    "print(text)\n",
    "\n",
    "f.close()"
   ]
  },
  {
   "cell_type": "code",
   "execution_count": 7,
   "metadata": {},
   "outputs": [
    {
     "name": "stdout",
     "output_type": "stream",
     "text": [
      "1\n",
      "2\n"
     ]
    }
   ],
   "source": [
    "f = open(\"example_files/numbers.txt\", \"r\")\n",
    "text = f.read(3)\n",
    "print(text) # second charcter is a newline (1, \\n, 2)\n",
    "\n",
    "f.close()"
   ]
  },
  {
   "cell_type": "code",
   "execution_count": 8,
   "metadata": {},
   "outputs": [
    {
     "name": "stdout",
     "output_type": "stream",
     "text": [
      "\n",
      "4\n",
      "5\n"
     ]
    }
   ],
   "source": [
    "f = open(\"example_files/numbers.txt\", \"r\")\n",
    "f.seek(5) # move cursor to the 6th character and read from there\n",
    "text = f.read()\n",
    "print(text)\n",
    "\n",
    "f.close()"
   ]
  },
  {
   "cell_type": "markdown",
   "metadata": {},
   "source": [
    "readline method\n",
    ": file object method that reads a line from the file\n",
    "- Line returned as a string, including `\\n`\n"
   ]
  },
  {
   "cell_type": "code",
   "execution_count": 11,
   "metadata": {},
   "outputs": [
    {
     "name": "stdout",
     "output_type": "stream",
     "text": [
      "1\n",
      "\n",
      "2\n",
      "\n"
     ]
    }
   ],
   "source": [
    "f = open(\"example_files/numbers.txt\", \"r\")\n",
    "line1 = f.readline()\n",
    "line2 = f.readline()\n",
    "print(line1)\n",
    "print(line2)\n",
    "\n",
    "f.close()"
   ]
  },
  {
   "cell_type": "markdown",
   "metadata": {},
   "source": [
    "The `readlines()` method returns a list of\n",
    "strings, where the first element is the\n",
    "contents of the first line, the second\n",
    "element is the contents of the second line,\n",
    "and so on"
   ]
  },
  {
   "cell_type": "code",
   "execution_count": 13,
   "metadata": {},
   "outputs": [
    {
     "name": "stdout",
     "output_type": "stream",
     "text": [
      "['1\\n', '2\\n', '3\\n', '4\\n', '5']\n"
     ]
    }
   ],
   "source": [
    "f = open(\"example_files/numbers.txt\", \"r\")\n",
    "l = f.readlines()\n",
    "print(l) # returns a list of lines\n",
    "\n",
    "f.close()"
   ]
  },
  {
   "cell_type": "markdown",
   "metadata": {},
   "source": [
    "## Writing Data to a file\n",
    "\n",
    "File object’s write method used to\n",
    "write data to the file\n",
    "- Format: `file_variable.write(string)`\n",
    "\n",
    "File should be closed using file object\n",
    "close method\n",
    "- Format: `file_variable.close()`"
   ]
  },
  {
   "cell_type": "code",
   "execution_count": 22,
   "metadata": {},
   "outputs": [],
   "source": [
    "f= open(\"example_files/demo_write_file.txt\", \"w\")\n",
    "f.write(\"Hello World\")\n",
    "f.close()"
   ]
  },
  {
   "cell_type": "markdown",
   "metadata": {},
   "source": [
    "## Appending Data to an Existing File\n",
    "\n",
    "When open file with `w` mode, if the\n",
    "file already exists it is overwritten\n",
    "\n",
    "To append data to a file use the `a`\n",
    "mode\n",
    "- If file exists, it is not erased, and if it does not\n",
    "exist it is created\n",
    "- Data is written to the file at the end of the\n",
    "current contents\n"
   ]
  },
  {
   "cell_type": "code",
   "execution_count": 23,
   "metadata": {},
   "outputs": [],
   "source": [
    "f= open(\"example_files/demo_write_file.txt\", \"a\")\n",
    "f.write(\"\\nHello World again\")\n",
    "f.close()"
   ]
  },
  {
   "cell_type": "markdown",
   "metadata": {},
   "source": [
    "## Writing and Reading Numeric Data\n",
    "\n",
    "Numbers must be converted to strings before they are written to a file\n",
    "\n",
    "str function\n",
    ": converts value to string\n",
    "\n",
    "Number are read from a text file as\n",
    "strings"
   ]
  },
  {
   "cell_type": "code",
   "execution_count": 17,
   "metadata": {},
   "outputs": [],
   "source": [
    "f = open(\"example_files/demo_number_file.txt\", \"w\")\n",
    "x = 10\n",
    "f.write(str(x))\n",
    "f.close()"
   ]
  },
  {
   "cell_type": "code",
   "execution_count": 21,
   "metadata": {},
   "outputs": [
    {
     "name": "stdout",
     "output_type": "stream",
     "text": [
      "<class 'int'>\n",
      "10\n"
     ]
    }
   ],
   "source": [
    "f = open(\"example_files/demo_number_file.txt\", \"r\")\n",
    "x = f.read()\n",
    "x= int(x)\n",
    "print(type(x))\n",
    "print(x)\n",
    "f.close()"
   ]
  },
  {
   "cell_type": "markdown",
   "metadata": {},
   "source": [
    "## Using loops to Process Files\n",
    "\n",
    "Files typically used to hold large amounts\n",
    "of data\n",
    "- Loop typically involved in reading from and\n",
    "writing to a file\n",
    "\n",
    "Often the number of items stored in file is\n",
    "unknown\n",
    "- The readline method uses an empty string as\n",
    "a sentinel when end of file is reached\n",
    "- Can write a while loop with the condition\n",
    "`while line != ''`\n",
    "\n",
    "Python allows the programmer to write\n",
    "a for loop that automatically reads\n",
    "lines in a file and stops when end of file\n",
    "is reached\n",
    "\n",
    "Format: \n",
    "```python\n",
    "for line in file_object:\n",
    "    statements\n",
    "```"
   ]
  },
  {
   "cell_type": "markdown",
   "metadata": {},
   "source": [
    "## Use `with` statements to open and close files\n",
    "\n",
    "The syntax of the with statement for file I/O\n",
    "```python\n",
    "with open(file, mode) as file_object:\n",
    "    statements...\n",
    "```\n",
    "\n",
    "Code that opens a text file in write mode and automatically closes it\n",
    "```python\n",
    "with open(\"test.txt\", \"w\") as outfile:\n",
    "    outfile.write(\"Test\")\n",
    "```\n",
    "\n",
    "Code that opens a text file in read mode and automatically closes it\n",
    "```python\n",
    "with open(\"test.txt\", \"r\") as infile:\n",
    "    print(infile.readline())\n",
    "```\n"
   ]
  },
  {
   "cell_type": "code",
   "execution_count": 26,
   "metadata": {},
   "outputs": [
    {
     "name": "stdout",
     "output_type": "stream",
     "text": [
      "1\n",
      "2\n",
      "3\n",
      "4\n",
      "5"
     ]
    }
   ],
   "source": [
    "with open(\"example_files/numbers.txt\", \"r\") as f:\n",
    "    for line in f:\n",
    "        print(line, end=\"\")"
   ]
  },
  {
   "cell_type": "markdown",
   "metadata": {},
   "source": [
    "## In class 1\n",
    "\n",
    "Create 2 files for writing, 1 for odd and 1 for even. Store all even numbers from 1-100 and all odd numbers from 1-100 in these files."
   ]
  },
  {
   "cell_type": "code",
   "execution_count": 27,
   "metadata": {},
   "outputs": [],
   "source": [
    "with open(\"example_files/odd_numbers.txt\", \"w\") as f_odd:\n",
    "    with open(\"example_files/even_numbers.txt\", \"w\") as f_even:\n",
    "        for i in range(1, 100):\n",
    "            if i % 2 != 0:\n",
    "                f_odd.write(str(i) + \"\\n\")\n",
    "            else:\n",
    "                f_even.write(str(i) + \"\\n\")"
   ]
  }
 ],
 "metadata": {
  "kernelspec": {
   "display_name": "base",
   "language": "python",
   "name": "python3"
  },
  "language_info": {
   "codemirror_mode": {
    "name": "ipython",
    "version": 3
   },
   "file_extension": ".py",
   "mimetype": "text/x-python",
   "name": "python",
   "nbconvert_exporter": "python",
   "pygments_lexer": "ipython3",
   "version": "3.9.13"
  }
 },
 "nbformat": 4,
 "nbformat_minor": 2
}
